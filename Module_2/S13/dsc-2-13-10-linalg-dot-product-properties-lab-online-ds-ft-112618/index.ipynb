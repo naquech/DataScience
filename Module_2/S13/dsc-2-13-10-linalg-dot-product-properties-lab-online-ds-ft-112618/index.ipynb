{
 "cells": [
  {
   "cell_type": "markdown",
   "metadata": {},
   "source": [
    "# Properties of Dot Product - Lab"
   ]
  },
  {
   "cell_type": "markdown",
   "metadata": {},
   "source": [
    "## Introduction\n",
    "\n",
    "In this lab we shall look at some interesting properties of a Dot product type matrix multiplication. Understanding these properties will become useful as we move forward with machine learning advanced linear algebra. The lab will require you to calculate results to provide a proof for these properties.\n",
    "\n",
    "## Objectives\n",
    "You will be able to:\n",
    "* Understand and analytically explain Distributive, Commutative and Associative properties of dot product\n",
    "\n",
    "## Instructions\n",
    "\n",
    "* For each property, create suitably sized matrices with random data and prove the equations \n",
    "* Ensure that size/dimension assumptions are met while performing calculations (you'll see errors otherwise)\n",
    "* Calculate the LHS and RHS for all equations and show if they are equal or not"
   ]
  },
  {
   "cell_type": "code",
   "execution_count": 2,
   "metadata": {},
   "outputs": [],
   "source": [
    "import numpy as np\n",
    "import random"
   ]
  },
  {
   "cell_type": "markdown",
   "metadata": {},
   "source": [
    "## Distributive Property - Matrices multiplication is distributive\n",
    "### Prove that A.(B+C)=A.B+A.C"
   ]
  },
  {
   "cell_type": "code",
   "execution_count": 20,
   "metadata": {},
   "outputs": [
    {
     "name": "stdout",
     "output_type": "stream",
     "text": [
      "[3 0 1 2]\n",
      "[[2 0 7 2]\n",
      " [6 8 9 0]\n",
      " [7 8 6 9]\n",
      " [6 2 3 9]]\n",
      "[[4 6 1 9]\n",
      " [4 9 7 9]\n",
      " [1 0 5 9]\n",
      " [5 9 9 0]]\n"
     ]
    }
   ],
   "source": [
    "A = np.random.randint(5, size=4)\n",
    "B = np.random.randint(10, size=(4,4))\n",
    "C = np.random.randint(10, size=(4,4))\n",
    "\n",
    "print(A)\n",
    "print(B)\n",
    "print(C)"
   ]
  },
  {
   "cell_type": "code",
   "execution_count": 21,
   "metadata": {},
   "outputs": [
    {
     "name": "stdout",
     "output_type": "stream",
     "text": [
      "[48 48 59 69]\n",
      "[48 48 59 69]\n",
      "[ True  True  True  True]\n"
     ]
    }
   ],
   "source": [
    "#LHS\n",
    "left = A.dot(B+C)\n",
    "print(left)\n",
    "\n",
    "#RHS\n",
    "right = A.dot(B) + A.dot(C)\n",
    "print(right)\n",
    "\n",
    "print(left == right)"
   ]
  },
  {
   "cell_type": "markdown",
   "metadata": {},
   "source": [
    "## Associative Property - Matrices multiplication is associative\n",
    "### Prove that A.(B.C)=(A.B).C"
   ]
  },
  {
   "cell_type": "code",
   "execution_count": 28,
   "metadata": {},
   "outputs": [
    {
     "name": "stdout",
     "output_type": "stream",
     "text": [
      "[[4 6 6]\n",
      " [5 1 3]\n",
      " [7 9 7]\n",
      " [0 3 1]]\n",
      "[[9 0]\n",
      " [3 2]\n",
      " [7 8]]\n",
      "[[7 7 7]\n",
      " [5 7 7]]\n"
     ]
    }
   ],
   "source": [
    "A = np.random.randint(10, size=(4,3))\n",
    "B = np.random.randint(10, size=(3,2))\n",
    "C = np.random.randint(10, size=(2,3))\n",
    "\n",
    "print(A)\n",
    "print(B)\n",
    "print(C)"
   ]
  },
  {
   "cell_type": "code",
   "execution_count": 29,
   "metadata": {},
   "outputs": [
    {
     "name": "stdout",
     "output_type": "stream",
     "text": [
      "[[ 972 1092 1092]\n",
      " [ 613  665  665]\n",
      " [1343 1491 1491]\n",
      " [ 182  210  210]]\n",
      "[[ 972 1092 1092]\n",
      " [ 613  665  665]\n",
      " [1343 1491 1491]\n",
      " [ 182  210  210]]\n",
      "[[ True  True  True]\n",
      " [ True  True  True]\n",
      " [ True  True  True]\n",
      " [ True  True  True]]\n"
     ]
    }
   ],
   "source": [
    "#LHS\n",
    "left = A.dot(B.dot(C))\n",
    "print(left)\n",
    "\n",
    "#RHS\n",
    "right = (A.dot(B)).dot(C)\n",
    "print(right)\n",
    "\n",
    "print(left == right)"
   ]
  },
  {
   "cell_type": "markdown",
   "metadata": {},
   "source": [
    "## Commutative Property - Matrix multiplication is NOT commutative\n",
    "### Prove that for matrices, A.B ≠ B.A"
   ]
  },
  {
   "cell_type": "code",
   "execution_count": 32,
   "metadata": {},
   "outputs": [
    {
     "name": "stdout",
     "output_type": "stream",
     "text": [
      "[[4 3 7]\n",
      " [9 9 4]\n",
      " [7 5 9]\n",
      " [6 7 5]]\n",
      "[[0 1 9 3]\n",
      " [1 7 8 6]\n",
      " [1 7 5 2]]\n"
     ]
    }
   ],
   "source": [
    "A = np.random.randint(10, size=(4,3))\n",
    "B = np.random.randint(10, size=(3,4))\n",
    "\n",
    "print(A)\n",
    "print(B)"
   ]
  },
  {
   "cell_type": "code",
   "execution_count": 33,
   "metadata": {},
   "outputs": [
    {
     "name": "stdout",
     "output_type": "stream",
     "text": [
      "[[ 10  74  95  44]\n",
      " [ 13 100 173  89]\n",
      " [ 14 105 148  69]\n",
      " [ 12  90 135  70]]\n",
      "[[ 972 1092 1092]\n",
      " [ 613  665  665]\n",
      " [1343 1491 1491]\n",
      " [ 182  210  210]]\n",
      "False\n"
     ]
    },
    {
     "name": "stderr",
     "output_type": "stream",
     "text": [
      "/Users/natalia/anaconda3/envs/learn-env/lib/python3.6/site-packages/ipykernel_launcher.py:6: DeprecationWarning: elementwise == comparison failed; this will raise an error in the future.\n",
      "  \n"
     ]
    }
   ],
   "source": [
    "left = A.dot(B)\n",
    "righ = B.dot(A)\n",
    "\n",
    "print(left)\n",
    "print(right)\n",
    "print(left == right)"
   ]
  },
  {
   "cell_type": "markdown",
   "metadata": {},
   "source": [
    "## Commutative Property -  vector multiplication IS commutative\n",
    "### Prove that for vectors, x<sup>T</sup> . y = y<sup>T</sup> . x\n",
    "Note: superscipt<sup>T</sup> denotes the transpose we saw earlier"
   ]
  },
  {
   "cell_type": "code",
   "execution_count": 42,
   "metadata": {},
   "outputs": [
    {
     "name": "stdout",
     "output_type": "stream",
     "text": [
      "[5 2 9 7 4]\n",
      "[2 8 3 1 4]\n"
     ]
    }
   ],
   "source": [
    "x = np.random.randint(10, size=5)\n",
    "y = np.random.randint(10, size=5)\n",
    "\n",
    "print(x)\n",
    "print(y)"
   ]
  },
  {
   "cell_type": "code",
   "execution_count": 44,
   "metadata": {},
   "outputs": [
    {
     "name": "stdout",
     "output_type": "stream",
     "text": [
      "76\n",
      "76\n"
     ]
    }
   ],
   "source": [
    "left = (np.transpose(x)).dot(y)\n",
    "print(left)\n",
    "\n",
    "right = (np.transpose(y).dot(x))\n",
    "print(right)"
   ]
  },
  {
   "cell_type": "markdown",
   "metadata": {},
   "source": [
    "#### and finally \n",
    "## Simplification of the matrix product\n",
    "### Prove that  (A.B)<sup>T</sup> = B<sup>T</sup> . A<sup>T</sup>"
   ]
  },
  {
   "cell_type": "code",
   "execution_count": 45,
   "metadata": {},
   "outputs": [
    {
     "name": "stdout",
     "output_type": "stream",
     "text": [
      "[[5 3 2 7]\n",
      " [1 0 4 0]\n",
      " [9 5 3 8]\n",
      " [4 0 8 7]]\n",
      "[[9 4 2 5]\n",
      " [4 8 1 6]\n",
      " [4 9 3 5]\n",
      " [1 2 2 6]]\n"
     ]
    }
   ],
   "source": [
    "A = np.random.randint(10, size=(4,4))\n",
    "B = np.random.randint(10, size=(4,4))\n",
    "\n",
    "print(A)\n",
    "print(B)"
   ]
  },
  {
   "cell_type": "code",
   "execution_count": 46,
   "metadata": {},
   "outputs": [
    {
     "name": "stdout",
     "output_type": "stream",
     "text": [
      "[[ 72  25 121  75]\n",
      " [ 76  40 119 102]\n",
      " [ 33  14  48  46]\n",
      " [ 95  25 138 102]]\n",
      "[[ 72  25 121  75]\n",
      " [ 76  40 119 102]\n",
      " [ 33  14  48  46]\n",
      " [ 95  25 138 102]]\n",
      "[[ True  True  True  True]\n",
      " [ True  True  True  True]\n",
      " [ True  True  True  True]\n",
      " [ True  True  True  True]]\n"
     ]
    }
   ],
   "source": [
    "left = np.transpose(A.dot(B))\n",
    "print(left)\n",
    "right = (np.transpose(B)).dot(np.transpose(A))\n",
    "print(right)\n",
    "print(left == right)"
   ]
  },
  {
   "cell_type": "markdown",
   "metadata": {},
   "source": [
    "## Summary \n",
    "\n",
    "So now we have seen enough matrix algebra to help us solve a problem of linear equations as we saw earlier in this section. We shall see how to do this next. "
   ]
  }
 ],
 "metadata": {
  "kernelspec": {
   "display_name": "Python 3",
   "language": "python",
   "name": "python3"
  },
  "language_info": {
   "codemirror_mode": {
    "name": "ipython",
    "version": 3
   },
   "file_extension": ".py",
   "mimetype": "text/x-python",
   "name": "python",
   "nbconvert_exporter": "python",
   "pygments_lexer": "ipython3",
   "version": "3.6.6"
  }
 },
 "nbformat": 4,
 "nbformat_minor": 2
}
