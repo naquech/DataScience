{
 "cells": [
  {
   "cell_type": "markdown",
   "metadata": {},
   "source": [
    "# Systems of Linear Equations - Quiz\n",
    "\n",
    "## Introduction\n",
    "Following scenarios present problems that can be solved as system of equations, while performing substitutions and eliminations as we saw in the previous lesson. \n",
    "\n",
    "* Solve these problems by hand, showing all the steps to work out the unknown variable values \n",
    "* Verify your answers by showing the calculated values satisfy all equations\n",
    "\n",
    "## Objectives\n",
    "You will be able to:\n",
    "* Describe a system of linear equations for solving simple analytical problems\n",
    "* Solve a system of equations using elimination and substitution\n",
    "\n",
    "## Exercise 1\n",
    "#### Joe paid 12 dollars for 4 cups of coffee and 4 cups of tea. 3 cups of coffee cost as much as 2 cups of tea. \n",
    "\n",
    "#### What would be the total cost of 5 cups of coffee and 5 cups of tea ?"
   ]
  },
  {
   "cell_type": "markdown",
   "metadata": {},
   "source": [
    "## Solution\n",
    "\n",
    "> Let x be the unit price of coffee and y be the unit price of tea"
   ]
  },
  {
   "cell_type": "markdown",
   "metadata": {},
   "source": [
    "#### Translate to equations:\n",
    "* Joe paid 12 dollars for 4 cups of coffee and 4 cups of tea:  4x + 4y = 12  #1\n",
    "* 3 cups of coffee cost as much as 2 cups of tea: 3x = 2y #2\n",
    "* What would be the total cost of 5 cups of coffee and 5 cups of tea?: 5x + 5Y = ? #3\n",
    "\n",
    "<p> From #2: x = 2/3y #4 </p>\n",
    "<p> #4 in #1: 4(2/3)y + 4y = 12 </p>  \n",
    "<p> 8/3y + 4y = 12 </p>   \n",
    "<p> 20y = 36 </p>  \n",
    "<p> <b> y=9/5  #5</b> </p>\n",
    "<br>\n",
    "<p> Insert y value in #4 </p>\n",
    "<p> x = 2/3(9/5) </p>\n",
    "<p> <b> x = 6/5 </b></p>\n",
    "<br>\n",
    "<p> Plug x and y into #3 </p>\n",
    "<p> 5(5/6) + 5(9/5) = 15 </p>\n",
    "<br>\n",
    "<p> 4(6/5) + 4(9/5) = 12 </p>\n",
    "<p> 3x = 3(6/5) = 18/5 </p>\n",
    "<p> 2y = 2(9/5) = 18/5 </p> \n",
    "<p> The total cost of 5 cups of coffee and 5 cups of tea is 15 dollars</p>\n"
   ]
  },
  {
   "cell_type": "markdown",
   "metadata": {},
   "source": [
    "## Exercise 2\n",
    "\n",
    "#### Jim has more money than Bob.  If Jim gave Bob 20 dollars , they would have the same amount.  While if Bob gave Jim 22 dollars, Jim would then have twice as much as Bob. \n",
    "\n",
    "#### How much does each one actually have?"
   ]
  },
  {
   "cell_type": "markdown",
   "metadata": {},
   "source": [
    "## Solution\n",
    "> Let x be the amount of money that Jim has and y be the amount that Bob has."
   ]
  },
  {
   "cell_type": "markdown",
   "metadata": {},
   "source": [
    "* Jim has more money than Bob: x > y\n",
    "* If Jim gave Bob 20 dollars , they would have the same amount: x-20 = y+20 #1\n",
    "* If Bob gave Jim 22 dollars, Jim would then have twice as much as Bob: x+22 = 2(y-22) #2\n",
    "* How much does each one actually have?: x=? and y=?\n",
    "\n",
    "<p> From #1: x = y + 20 + 20 </p>\n",
    "<p> x = y + 40 #3 </p>\n",
    "<p> #3 in #2 </p>\n",
    "<p> (y+40) + 22 = 2y - 44 </p>\n",
    "<p> y + 62 = 2y - 44 </p>\n",
    "<p> 62 + 44 = 2y - y </p>\n",
    "<p><b> 106 = y </b> #4 </p> \n",
    "<p> Plug #4 in #3 to find x </p>\n",
    "<p> x = 106 + 40 <p>\n",
    "<p><b> x = 146 </b></p>\n",
    "<br>\n",
    "<p> It satisfies the condition that Jim (x) has more money (>) than Bob (y) </p>\n",
    "<p> 146-20 = 106+20 ; 126 = 126 </p>\n",
    "<p> 146+22 = 2(106-22) ; 168 = 168 </p>"
   ]
  },
  {
   "cell_type": "markdown",
   "metadata": {},
   "source": [
    "## Exercise 3\n",
    "\n",
    "#### Mia has 30 coins, consisting of quarters (25 cents) and dimes (10 cents), which total to the amount 5.70 dollars.  \n",
    "#### How many of each does she have?"
   ]
  },
  {
   "cell_type": "markdown",
   "metadata": {},
   "source": [
    "* Mia has 30 coins, consisting of quarters (25 cents) and dimes (10 cents): q + d = 30 #1\n",
    "* Which total to the amount 5.70 dollars: 0.25q + 0.1d = 5.7 #2\n",
    "<br>\n",
    "<p> from #1: q = 30-d #3 </p>\n",
    "<p> #3 in #2: 0.25(30-d) + 0.1d = 5.7 </p>\n",
    "<p> 7.5 - 5.7 = 0.25d - 0.1d <p>\n",
    "<p><b> 12 = d </b> #4 </p>\n",
    "<br>\n",
    "<p>#4 in #3: q = 30 - 12 ; <b> q = 18 </b></p>\n",
    "<br>\n",
    "<p> 18 + 12 = 30 </p>\n",
    "<p> 0.25(18) + 0.1(12) = 5.7 </p>"
   ]
  },
  {
   "cell_type": "markdown",
   "metadata": {},
   "source": [
    "## Level up - Optional \n",
    "For more pratice with linear equations, Visit following links for more complex equations and online answers verification:\n",
    "\n",
    "* https://www.transum.org/software/SW/Starter_of_the_day/Students/Simultaneous_Equations.asp?Level=6\n",
    "* https://www.transum.org/software/SW/Starter_of_the_day/Students/Simultaneous_Equations.asp?Level=7"
   ]
  },
  {
   "cell_type": "markdown",
   "metadata": {},
   "source": [
    "## Summary\n",
    "In this lesson, we saw how to solve linear equations by hand to find the co-efficient values. We shall now move forward to have a deeper look into vectors and matrices and how Python and Numpy can help us solve more complex equations in an analytical context. "
   ]
  }
 ],
 "metadata": {
  "kernelspec": {
   "display_name": "learn-env",
   "language": "python",
   "name": "learn-env"
  },
  "language_info": {
   "codemirror_mode": {
    "name": "ipython",
    "version": 3
   },
   "file_extension": ".py",
   "mimetype": "text/x-python",
   "name": "python",
   "nbconvert_exporter": "python",
   "pygments_lexer": "ipython3",
   "version": "3.7.0"
  }
 },
 "nbformat": 4,
 "nbformat_minor": 2
}
