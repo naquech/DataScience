{
 "cells": [
  {
   "cell_type": "markdown",
   "metadata": {},
   "source": [
    "## Project: Develop a Basic calculator program using Python\n",
    "\n",
    "## Introduction\n",
    "We've introduced a lot of new content in this section. Here's a chance to get some practice with your newly found skills in Python by building a calculator.\n",
    "\n",
    "## Objectives\n",
    "You will be able to:\n",
    "* Show mastery of the content covered in this section including:\n",
    "        1. Data types \n",
    "        2. Iteration \n",
    "        3. Conditionals \n",
    "        4. Functions \n",
    "        5. User I/O. "
   ]
  },
  {
   "cell_type": "markdown",
   "metadata": {},
   "source": [
    "### The problem\n",
    ">**Create a simple calculator which can perform basic arithmetic operations like addition, subtraction, multiplication or division depending upon the user input**.\n",
    "\n",
    "### Approach \n",
    "\n",
    "* User choose the desired operation. Options 1, 2, 3, 4 are valid options for operations.  \n",
    "* Two numbers are taken and an `if…elif…else` branching is used to execute a particular section.\n",
    "\n",
    "* Using functions `add()`, `subtract()`, `multiply()` and `divide()` evaluate respective operations.\n",
    "\n",
    "* The code should handle exceptions and must return **\"invalid input*** when an unexpected character is given in the input (anything other than 1 - 4)."
   ]
  },
  {
   "cell_type": "markdown",
   "metadata": {},
   "source": [
    "### Example Interface\n",
    "Here is the interface you are expected to build. Don't worry if it is not 100% exactly as what is shown. Focus more on the getting the logic correct at this stage. \n",
    "\n",
    "```\n",
    "Please select an operation:\n",
    "1. Add\n",
    "2. Subtract\n",
    "3. Multiply\n",
    "4. Divide\n",
    "\n",
    "Select operations form 1, 2, 3, 4 : 1\n",
    "Enter first number : 20\n",
    "Enter second number : 13\n",
    "20 + 13 = 33\n",
    "```"
   ]
  },
  {
   "cell_type": "markdown",
   "metadata": {},
   "source": [
    "### Creating Arithmatic Functions\n",
    "\n",
    "We shall create four functions, one for each arithmatic operation which will perform the required operation and resturn the resulting value as shown below:"
   ]
  },
  {
   "cell_type": "code",
   "execution_count": 1,
   "metadata": {},
   "outputs": [
    {
     "data": {
      "text/plain": [
       "9"
      ]
     },
     "execution_count": 1,
     "metadata": {},
     "output_type": "execute_result"
    }
   ],
   "source": [
    "# Function to add two numbers \n",
    "def add(num1, num2):\n",
    "    return num1 + num2\n",
    "\n",
    "add(4,5)"
   ]
  },
  {
   "cell_type": "code",
   "execution_count": 2,
   "metadata": {},
   "outputs": [
    {
     "data": {
      "text/plain": [
       "-1"
      ]
     },
     "execution_count": 2,
     "metadata": {},
     "output_type": "execute_result"
    }
   ],
   "source": [
    "# Function to subtract two numbers \n",
    "def subtract(num1, num2):\n",
    "    return num1 - num2\n",
    "\n",
    "subtract(4,5)"
   ]
  },
  {
   "cell_type": "code",
   "execution_count": 3,
   "metadata": {},
   "outputs": [
    {
     "data": {
      "text/plain": [
       "48"
      ]
     },
     "execution_count": 3,
     "metadata": {},
     "output_type": "execute_result"
    }
   ],
   "source": [
    "# Function to multiply two numbers\n",
    "def multiply(num1, num2):\n",
    "    return num1 * num2\n",
    "\n",
    "multiply(6,8)"
   ]
  },
  {
   "cell_type": "code",
   "execution_count": 4,
   "metadata": {},
   "outputs": [
    {
     "data": {
      "text/plain": [
       "2.0"
      ]
     },
     "execution_count": 4,
     "metadata": {},
     "output_type": "execute_result"
    }
   ],
   "source": [
    "# Function to divide two numbers\n",
    "def divide(num1, num2):\n",
    "    return num1/num2\n",
    "\n",
    "divide(10,5)"
   ]
  },
  {
   "cell_type": "code",
   "execution_count": 5,
   "metadata": {},
   "outputs": [
    {
     "data": {
      "text/plain": [
       "3"
      ]
     },
     "execution_count": 5,
     "metadata": {},
     "output_type": "execute_result"
    }
   ],
   "source": [
    "# Function to find module - optional\n",
    "def divide_v2(num1, num2):\n",
    "    #Perform the calculation\n",
    "    return num1 % num2\n",
    "\n",
    "divide_v2(11,4)"
   ]
  },
  {
   "cell_type": "markdown",
   "metadata": {},
   "source": [
    "### Create a Command-line User Interface\n",
    "We shall now write the main program body to take user input and call the relevent function"
   ]
  },
  {
   "cell_type": "code",
   "execution_count": 6,
   "metadata": {},
   "outputs": [
    {
     "name": "stdout",
     "output_type": "stream",
     "text": [
      "Please select an operation: \n",
      "1. Add \n",
      "2. Subtract \n",
      "3. Multiply \n",
      "4. Divide \n",
      "\n",
      "Select a number: 1\n",
      "Please enter the first number: 2\n",
      "Please enter the second number: 3\n",
      "2 + 3 = 5\n"
     ]
    }
   ],
   "source": [
    "# Print user menu \n",
    "print('Please select an operation: \\n'\n",
    "        '1. Add \\n'\n",
    "        '2. Subtract \\n'\n",
    "        '3. Multiply \\n'\n",
    "        '4. Divide \\n')\n",
    "\n",
    "# Take input from the user for operation , followed by numbers. \n",
    "user_option = input('Select a number: ')\n",
    "user_num1 = int(input('Please enter the first number: '))\n",
    "user_num2 = int(input('Please enter the second number: '))\n",
    "\n",
    "# Based on operation, pass the two numbers to respective function\n",
    "if user_option == '1':\n",
    "    result = add(user_num1, user_num2)\n",
    "    print(user_num1,'+', user_num2, '=', result)\n",
    "    \n",
    "elif user_option == '2':\n",
    "    result = subtract(user_num1, user_num2)\n",
    "    print(user_num1,'-', user_num2, '=', result)\n",
    "    \n",
    "elif user_option == '3':\n",
    "    result = multiply(user_num1, user_num2)\n",
    "    print(user_num1,'*', user_num2, '=', result)\n",
    "    \n",
    "elif user_option == '4':\n",
    "    result = divide(user_num1, user_num2)\n",
    "    print(user_num1,'/', user_num2, '=', result)\n",
    "    \n",
    "else:\n",
    "        print(\"Invalid input\")\n",
    "\n",
    "\n",
    "# Print the output in a nice manner\n",
    "# Print \"Invalid input\" if an unexpected character is seen in input\n",
    "\n",
    "\n",
    "# Expected output    \n",
    "\n",
    "# Please select operation -\n",
    "# 1. Add\n",
    "# 2. Subtract\n",
    "# 3. Multiply\n",
    "# 4. Divide\n",
    "\n",
    "# Select operations form 1, 2, 3, 4 :1\n",
    "# Enter first number: 2\n",
    "# Enter second number: 3\n",
    "# 2 + 3 = 5"
   ]
  },
  {
   "cell_type": "markdown",
   "metadata": {},
   "source": [
    "#### Bring in the While loop\n",
    "\n",
    "We can see how the logic set by using if-else statements, along with functions can be used to control the flow of the program in an easy way. Let's add more functionality to our calculator as below:\n",
    "\n",
    ">Lets try to make it a bit more interesting by introducing the behaviour of a real calculator so our users can choose to either continue with calculationa OR exit the system. Users gets this functionality by pressing `y` for yes and `n` for no towards continuation.\n",
    "\n",
    "### Example Interface\n",
    "\n",
    "**Notice `continue: y/n` at the bottom of interface.**\n",
    "\n",
    "```\n",
    "Please select an operation:\n",
    "1. Add\n",
    "2. Subtract\n",
    "3. Multiply\n",
    "4. Divide\n",
    "\n",
    "Select operations form 1, 2, 3, 4 : 1\n",
    "Enter first number : 20\n",
    "Enter second number : 13\n",
    "20 + 13 = 33\n",
    "\n",
    "Continue: y/n\n",
    "```\n",
    "\n",
    "Let's work towards implementing iteration into the equation and enclose above I/O interface inside a while loops."
   ]
  },
  {
   "cell_type": "code",
   "execution_count": 9,
   "metadata": {},
   "outputs": [
    {
     "name": "stdout",
     "output_type": "stream",
     "text": [
      "\n",
      " Please select an operation: \n",
      "1. Add \n",
      "2. Subtract \n",
      "3. Multiply \n",
      "4. Divide \n",
      "\n",
      "Select a number: 4\n",
      "Please enter the first number: 5\n",
      "Please enter the second number: 4\n",
      "Select a type of division: \n",
      "d - Normal Division\n",
      "m - Module Operator\n",
      "\n",
      "Your choice: m\n",
      "5 % 4 = 1\n",
      "Continue? y/n: y\n",
      "\n",
      " Please select an operation: \n",
      "1. Add \n",
      "2. Subtract \n",
      "3. Multiply \n",
      "4. Divide \n",
      "\n",
      "Select a number: 4\n",
      "Please enter the first number: 5\n",
      "Please enter the second number: 4\n",
      "Select a type of division: \n",
      "d - Normal Division\n",
      "m - Module Operator\n",
      "\n",
      "Your choice: d\n",
      "5 / 4 = 1.25\n",
      "Continue? y/n: n\n"
     ]
    }
   ],
   "source": [
    "# Initialize the code with cont (continue) flag set to yes (y)\n",
    "cont = 'y'\n",
    "\n",
    "# Check for user input after each iteration of the code in a while loop\n",
    "while cont == 'y':\n",
    "\n",
    "    # Enclose the I/O  code block inside the while loop\n",
    "    print('\\n Please select an operation: \\n'\n",
    "        '1. Add \\n'\n",
    "        '2. Subtract \\n'\n",
    "        '3. Multiply \\n'\n",
    "        '4. Divide \\n')\n",
    "\n",
    "    # Take input from the user for operation , followed by numbers. \n",
    "    user_option = input('Select a number: ')\n",
    "    user_num1 = int(input('Please enter the first number: '))\n",
    "    user_num2 = int(input('Please enter the second number: '))\n",
    "\n",
    "    # Based on operation, pass the two numbers to respective function\n",
    "    if user_option == '1':\n",
    "        result = add(user_num1, user_num2)\n",
    "        print(user_num1,'+', user_num2, '=', result)\n",
    "\n",
    "    elif user_option == '2':\n",
    "        result = subtract(user_num1, user_num2)\n",
    "        print(user_num1,'-', user_num2, '=', result)\n",
    "\n",
    "    elif user_option == '3':\n",
    "        result = multiply(user_num1, user_num2)\n",
    "        print(user_num1,'*', user_num2, '=', result)\n",
    "\n",
    "    elif user_option == '4':\n",
    "        print('Select a type of division: \\n'\n",
    "              'd - Normal Division\\n'\n",
    "              'm - Module Operator\\n')\n",
    "        div_type = input('Your choice: ')\n",
    "        if div_type == 'd':\n",
    "            result = divide(user_num1, user_num2)\n",
    "            print(user_num1,'/', user_num2, '=', result)\n",
    "        elif div_type == 'm':\n",
    "            result = divide_v2(user_num1, user_num2)\n",
    "            print(user_num1,'%', user_num2, '=', result)\n",
    "        else: print('Invalid numbers')\n",
    "    else:\n",
    "            print(\"Invalid input\")\n",
    "\n",
    "    cont = input('Continue? y/n: ')\n",
    "    if cont == \"n\":\n",
    "        break\n",
    "\n",
    "#Expected output format\n",
    "\n",
    "# Select operations form 1, 2, 3, 4 :4\n",
    "# Enter first number: 5\n",
    "# Enter second number: 4\n",
    "# Press d for division and m for modulo operatorm\n",
    "# 5 / 4 = 1\n",
    "# Continue? y/n:y\n",
    "# Select operations form 1, 2, 3, 4 :4\n",
    "# Enter first number: 5\n",
    "# Enter second number: 4\n",
    "# Press d for division and m for modulo operatord\n",
    "# 5 / 4 = 1.25"
   ]
  },
  {
   "cell_type": "markdown",
   "metadata": {},
   "source": [
    "## Level up (Optional)\n",
    "\n",
    "The while loop shown above allows the iteration through the code until a specific input from user i.e. `n` is noticed. Let's add some more functionality to this code by asking users about the type of division they are interested in, and this could be either normal division (as before) or a modulo operator (shows remainder).\n",
    "\n",
    ">Change the code in the division function so that if a user selects division operation, the code should ask the user if he/she wants a normal division `/` (int) or `//` (float) , or a module `%` operator which only returns the remainder of a division. The program should return an exception for any other inputs. "
   ]
  },
  {
   "cell_type": "code",
   "execution_count": 10,
   "metadata": {},
   "outputs": [],
   "source": [
    "# This function has been defined at the top.\n",
    "\n",
    "def divide_v2(num1, num2):\n",
    "    #Perform the calculation\n",
    "    return None\n"
   ]
  },
  {
   "cell_type": "markdown",
   "metadata": {},
   "source": [
    "### Summary\n",
    "\n",
    "In this lab we saw how loops and conditions can be used to control the logic of a program execution based on user input. We started with building a simple calculator and incrementaly added more functionality to it by adding loops for iteration and further conditions allowing different type of calculations. We also practiced User I/O by taking choices from the users and dealing with exceptions (unexpected input). "
   ]
  }
 ],
 "metadata": {
  "kernelspec": {
   "display_name": "learn-env",
   "language": "python",
   "name": "learn-env"
  },
  "language_info": {
   "codemirror_mode": {
    "name": "ipython",
    "version": 3
   },
   "file_extension": ".py",
   "mimetype": "text/x-python",
   "name": "python",
   "nbconvert_exporter": "python",
   "pygments_lexer": "ipython3",
   "version": "3.7.0"
  }
 },
 "nbformat": 4,
 "nbformat_minor": 2
}
