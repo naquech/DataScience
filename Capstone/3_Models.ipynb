{
 "cells": [
  {
   "cell_type": "markdown",
   "metadata": {},
   "source": [
    "# Logistic Regression\n",
    "\n",
    "Checkout formats"
   ]
  },
  {
   "cell_type": "code",
   "execution_count": 2,
   "metadata": {},
   "outputs": [],
   "source": [
    "import pandas as pd"
   ]
  },
  {
   "cell_type": "code",
   "execution_count": 3,
   "metadata": {},
   "outputs": [
    {
     "data": {
      "text/html": [
       "<div>\n",
       "<style scoped>\n",
       "    .dataframe tbody tr th:only-of-type {\n",
       "        vertical-align: middle;\n",
       "    }\n",
       "\n",
       "    .dataframe tbody tr th {\n",
       "        vertical-align: top;\n",
       "    }\n",
       "\n",
       "    .dataframe thead th {\n",
       "        text-align: right;\n",
       "    }\n",
       "</style>\n",
       "<table border=\"1\" class=\"dataframe\">\n",
       "  <thead>\n",
       "    <tr style=\"text-align: right;\">\n",
       "      <th></th>\n",
       "      <th>UsageClass</th>\n",
       "      <th>CheckoutType</th>\n",
       "      <th>MaterialType</th>\n",
       "      <th>CheckoutYear</th>\n",
       "      <th>CheckoutMonth</th>\n",
       "      <th>Checkouts</th>\n",
       "      <th>Title</th>\n",
       "      <th>Creator</th>\n",
       "      <th>Subjects</th>\n",
       "      <th>Publisher</th>\n",
       "      <th>PublicationYear</th>\n",
       "    </tr>\n",
       "  </thead>\n",
       "  <tbody>\n",
       "    <tr>\n",
       "      <th>0</th>\n",
       "      <td>Physical</td>\n",
       "      <td>Horizon</td>\n",
       "      <td>BOOK</td>\n",
       "      <td>2016</td>\n",
       "      <td>6</td>\n",
       "      <td>1</td>\n",
       "      <td>Capitalism unbound : the incontestable moral c...</td>\n",
       "      <td>Bernstein, Andrew</td>\n",
       "      <td>Capitalism</td>\n",
       "      <td>University Press of America,</td>\n",
       "      <td>c2010.</td>\n",
       "    </tr>\n",
       "    <tr>\n",
       "      <th>1</th>\n",
       "      <td>Digital</td>\n",
       "      <td>OverDrive</td>\n",
       "      <td>EBOOK</td>\n",
       "      <td>2016</td>\n",
       "      <td>6</td>\n",
       "      <td>2</td>\n",
       "      <td>A Fountain Filled With Blood: Clare Fergusson ...</td>\n",
       "      <td>Julia Spencer-Fleming</td>\n",
       "      <td>Fiction, Mystery</td>\n",
       "      <td>Macmillan Publishers</td>\n",
       "      <td>2013</td>\n",
       "    </tr>\n",
       "    <tr>\n",
       "      <th>2</th>\n",
       "      <td>Physical</td>\n",
       "      <td>Horizon</td>\n",
       "      <td>SOUNDDISC</td>\n",
       "      <td>2016</td>\n",
       "      <td>6</td>\n",
       "      <td>3</td>\n",
       "      <td>And winter came-- [sound recording] / Enya.</td>\n",
       "      <td>Enya</td>\n",
       "      <td>Christmas music, New Age music, Popular music ...</td>\n",
       "      <td>Reprise,</td>\n",
       "      <td>p2008.</td>\n",
       "    </tr>\n",
       "    <tr>\n",
       "      <th>3</th>\n",
       "      <td>Digital</td>\n",
       "      <td>OverDrive</td>\n",
       "      <td>EBOOK</td>\n",
       "      <td>2016</td>\n",
       "      <td>6</td>\n",
       "      <td>1</td>\n",
       "      <td>Simply Sensual</td>\n",
       "      <td>Carly Phillips</td>\n",
       "      <td>Contemporary Romance, Fiction, Romance</td>\n",
       "      <td>Harlequin Enterprises, Ltd.</td>\n",
       "      <td>2010</td>\n",
       "    </tr>\n",
       "    <tr>\n",
       "      <th>4</th>\n",
       "      <td>Physical</td>\n",
       "      <td>Horizon</td>\n",
       "      <td>BOOK</td>\n",
       "      <td>2016</td>\n",
       "      <td>6</td>\n",
       "      <td>33</td>\n",
       "      <td>Lafayette in the somewhat United States / Sara...</td>\n",
       "      <td>Vowell, Sarah, 1969-</td>\n",
       "      <td>Lafayette Marie Joseph Paul Yves Roch Gilbert ...</td>\n",
       "      <td>Riverhead Books,</td>\n",
       "      <td>2015.</td>\n",
       "    </tr>\n",
       "  </tbody>\n",
       "</table>\n",
       "</div>"
      ],
      "text/plain": [
       "  UsageClass CheckoutType MaterialType  CheckoutYear  CheckoutMonth  \\\n",
       "0   Physical      Horizon         BOOK          2016              6   \n",
       "1    Digital    OverDrive        EBOOK          2016              6   \n",
       "2   Physical      Horizon    SOUNDDISC          2016              6   \n",
       "3    Digital    OverDrive        EBOOK          2016              6   \n",
       "4   Physical      Horizon         BOOK          2016              6   \n",
       "\n",
       "   Checkouts                                              Title  \\\n",
       "0          1  Capitalism unbound : the incontestable moral c...   \n",
       "1          2  A Fountain Filled With Blood: Clare Fergusson ...   \n",
       "2          3        And winter came-- [sound recording] / Enya.   \n",
       "3          1                                     Simply Sensual   \n",
       "4         33  Lafayette in the somewhat United States / Sara...   \n",
       "\n",
       "                 Creator                                           Subjects  \\\n",
       "0      Bernstein, Andrew                                         Capitalism   \n",
       "1  Julia Spencer-Fleming                                   Fiction, Mystery   \n",
       "2                   Enya  Christmas music, New Age music, Popular music ...   \n",
       "3         Carly Phillips             Contemporary Romance, Fiction, Romance   \n",
       "4   Vowell, Sarah, 1969-  Lafayette Marie Joseph Paul Yves Roch Gilbert ...   \n",
       "\n",
       "                      Publisher PublicationYear  \n",
       "0  University Press of America,          c2010.  \n",
       "1          Macmillan Publishers            2013  \n",
       "2                      Reprise,          p2008.  \n",
       "3   Harlequin Enterprises, Ltd.            2010  \n",
       "4              Riverhead Books,           2015.  "
      ]
     },
     "execution_count": 3,
     "metadata": {},
     "output_type": "execute_result"
    }
   ],
   "source": [
    "data = pd.read_csv('Data/spl_clean.csv')\n",
    "data.head()"
   ]
  },
  {
   "cell_type": "markdown",
   "metadata": {},
   "source": [
    "## Label encode UsageClass column\n",
    "Logistic regression requires the dependent variable to be binary. Generate a mapping scheme where each value is mapped to a number by using a LabelEncoder object. The transformed labels are stored and written back to the frame."
   ]
  },
  {
   "cell_type": "code",
   "execution_count": 4,
   "metadata": {},
   "outputs": [],
   "source": [
    "from sklearn.preprocessing import LabelEncoder"
   ]
  },
  {
   "cell_type": "code",
   "execution_count": 6,
   "metadata": {},
   "outputs": [
    {
     "data": {
      "text/plain": [
       "Physical    26662540\n",
       "Digital      6494351\n",
       "Name: UsageClass, dtype: int64"
      ]
     },
     "execution_count": 6,
     "metadata": {},
     "output_type": "execute_result"
    }
   ],
   "source": [
    "data.UsageClass.value_counts()"
   ]
  },
  {
   "cell_type": "code",
   "execution_count": 7,
   "metadata": {},
   "outputs": [
    {
     "data": {
      "text/plain": [
       "{0: 'Digital', 1: 'Physical'}"
      ]
     },
     "execution_count": 7,
     "metadata": {},
     "output_type": "execute_result"
    }
   ],
   "source": [
    "gle = LabelEncoder()\n",
    "usage_labels = gle.fit_transform(data['UsageClass'])\n",
    "usage_mappings = {index: label for index, label in enumerate(gle.classes_)}\n",
    "usage_mappings"
   ]
  },
  {
   "cell_type": "code",
   "execution_count": 8,
   "metadata": {},
   "outputs": [],
   "source": [
    "data['UsageClass'] = usage_labels"
   ]
  },
  {
   "cell_type": "code",
   "execution_count": 10,
   "metadata": {},
   "outputs": [
    {
     "data": {
      "text/plain": [
       "1    26662540\n",
       "0     6494351\n",
       "Name: UsageClass, dtype: int64"
      ]
     },
     "execution_count": 10,
     "metadata": {},
     "output_type": "execute_result"
    }
   ],
   "source": [
    "data.UsageClass.value_counts()"
   ]
  },
  {
   "cell_type": "code",
   "execution_count": 11,
   "metadata": {},
   "outputs": [
    {
     "data": {
      "text/html": [
       "<div>\n",
       "<style scoped>\n",
       "    .dataframe tbody tr th:only-of-type {\n",
       "        vertical-align: middle;\n",
       "    }\n",
       "\n",
       "    .dataframe tbody tr th {\n",
       "        vertical-align: top;\n",
       "    }\n",
       "\n",
       "    .dataframe thead th {\n",
       "        text-align: right;\n",
       "    }\n",
       "</style>\n",
       "<table border=\"1\" class=\"dataframe\">\n",
       "  <thead>\n",
       "    <tr style=\"text-align: right;\">\n",
       "      <th></th>\n",
       "      <th>UsageClass</th>\n",
       "      <th>CheckoutType</th>\n",
       "      <th>MaterialType</th>\n",
       "      <th>CheckoutYear</th>\n",
       "      <th>CheckoutMonth</th>\n",
       "      <th>Checkouts</th>\n",
       "      <th>Title</th>\n",
       "      <th>Creator</th>\n",
       "      <th>Subjects</th>\n",
       "      <th>Publisher</th>\n",
       "      <th>PublicationYear</th>\n",
       "    </tr>\n",
       "  </thead>\n",
       "  <tbody>\n",
       "    <tr>\n",
       "      <th>0</th>\n",
       "      <td>1</td>\n",
       "      <td>Horizon</td>\n",
       "      <td>BOOK</td>\n",
       "      <td>2016</td>\n",
       "      <td>6</td>\n",
       "      <td>1</td>\n",
       "      <td>Capitalism unbound : the incontestable moral c...</td>\n",
       "      <td>Bernstein, Andrew</td>\n",
       "      <td>Capitalism</td>\n",
       "      <td>University Press of America,</td>\n",
       "      <td>c2010.</td>\n",
       "    </tr>\n",
       "    <tr>\n",
       "      <th>1</th>\n",
       "      <td>0</td>\n",
       "      <td>OverDrive</td>\n",
       "      <td>EBOOK</td>\n",
       "      <td>2016</td>\n",
       "      <td>6</td>\n",
       "      <td>2</td>\n",
       "      <td>A Fountain Filled With Blood: Clare Fergusson ...</td>\n",
       "      <td>Julia Spencer-Fleming</td>\n",
       "      <td>Fiction, Mystery</td>\n",
       "      <td>Macmillan Publishers</td>\n",
       "      <td>2013</td>\n",
       "    </tr>\n",
       "    <tr>\n",
       "      <th>2</th>\n",
       "      <td>1</td>\n",
       "      <td>Horizon</td>\n",
       "      <td>SOUNDDISC</td>\n",
       "      <td>2016</td>\n",
       "      <td>6</td>\n",
       "      <td>3</td>\n",
       "      <td>And winter came-- [sound recording] / Enya.</td>\n",
       "      <td>Enya</td>\n",
       "      <td>Christmas music, New Age music, Popular music ...</td>\n",
       "      <td>Reprise,</td>\n",
       "      <td>p2008.</td>\n",
       "    </tr>\n",
       "    <tr>\n",
       "      <th>3</th>\n",
       "      <td>0</td>\n",
       "      <td>OverDrive</td>\n",
       "      <td>EBOOK</td>\n",
       "      <td>2016</td>\n",
       "      <td>6</td>\n",
       "      <td>1</td>\n",
       "      <td>Simply Sensual</td>\n",
       "      <td>Carly Phillips</td>\n",
       "      <td>Contemporary Romance, Fiction, Romance</td>\n",
       "      <td>Harlequin Enterprises, Ltd.</td>\n",
       "      <td>2010</td>\n",
       "    </tr>\n",
       "    <tr>\n",
       "      <th>4</th>\n",
       "      <td>1</td>\n",
       "      <td>Horizon</td>\n",
       "      <td>BOOK</td>\n",
       "      <td>2016</td>\n",
       "      <td>6</td>\n",
       "      <td>33</td>\n",
       "      <td>Lafayette in the somewhat United States / Sara...</td>\n",
       "      <td>Vowell, Sarah, 1969-</td>\n",
       "      <td>Lafayette Marie Joseph Paul Yves Roch Gilbert ...</td>\n",
       "      <td>Riverhead Books,</td>\n",
       "      <td>2015.</td>\n",
       "    </tr>\n",
       "  </tbody>\n",
       "</table>\n",
       "</div>"
      ],
      "text/plain": [
       "   UsageClass CheckoutType MaterialType  CheckoutYear  CheckoutMonth  \\\n",
       "0           1      Horizon         BOOK          2016              6   \n",
       "1           0    OverDrive        EBOOK          2016              6   \n",
       "2           1      Horizon    SOUNDDISC          2016              6   \n",
       "3           0    OverDrive        EBOOK          2016              6   \n",
       "4           1      Horizon         BOOK          2016              6   \n",
       "\n",
       "   Checkouts                                              Title  \\\n",
       "0          1  Capitalism unbound : the incontestable moral c...   \n",
       "1          2  A Fountain Filled With Blood: Clare Fergusson ...   \n",
       "2          3        And winter came-- [sound recording] / Enya.   \n",
       "3          1                                     Simply Sensual   \n",
       "4         33  Lafayette in the somewhat United States / Sara...   \n",
       "\n",
       "                 Creator                                           Subjects  \\\n",
       "0      Bernstein, Andrew                                         Capitalism   \n",
       "1  Julia Spencer-Fleming                                   Fiction, Mystery   \n",
       "2                   Enya  Christmas music, New Age music, Popular music ...   \n",
       "3         Carly Phillips             Contemporary Romance, Fiction, Romance   \n",
       "4   Vowell, Sarah, 1969-  Lafayette Marie Joseph Paul Yves Roch Gilbert ...   \n",
       "\n",
       "                      Publisher PublicationYear  \n",
       "0  University Press of America,          c2010.  \n",
       "1          Macmillan Publishers            2013  \n",
       "2                      Reprise,          p2008.  \n",
       "3   Harlequin Enterprises, Ltd.            2010  \n",
       "4              Riverhead Books,           2015.  "
      ]
     },
     "execution_count": 11,
     "metadata": {},
     "output_type": "execute_result"
    }
   ],
   "source": [
    "data.head()"
   ]
  },
  {
   "cell_type": "markdown",
   "metadata": {},
   "source": [
    "### Data preprocessing\n",
    "\n",
    "Create dummy variables"
   ]
  },
  {
   "cell_type": "code",
   "execution_count": null,
   "metadata": {},
   "outputs": [],
   "source": []
  },
  {
   "cell_type": "code",
   "execution_count": null,
   "metadata": {},
   "outputs": [],
   "source": []
  },
  {
   "cell_type": "code",
   "execution_count": null,
   "metadata": {},
   "outputs": [],
   "source": []
  },
  {
   "cell_type": "code",
   "execution_count": null,
   "metadata": {},
   "outputs": [],
   "source": []
  },
  {
   "cell_type": "code",
   "execution_count": null,
   "metadata": {},
   "outputs": [],
   "source": []
  },
  {
   "cell_type": "code",
   "execution_count": null,
   "metadata": {},
   "outputs": [],
   "source": []
  },
  {
   "cell_type": "code",
   "execution_count": null,
   "metadata": {},
   "outputs": [],
   "source": []
  },
  {
   "cell_type": "code",
   "execution_count": null,
   "metadata": {},
   "outputs": [],
   "source": []
  },
  {
   "cell_type": "markdown",
   "metadata": {},
   "source": [
    "## Sources\n",
    "https://towardsdatascience.com/understanding-feature-engineering-part-2-categorical-data-f54324193e63\n"
   ]
  },
  {
   "cell_type": "code",
   "execution_count": null,
   "metadata": {},
   "outputs": [],
   "source": []
  }
 ],
 "metadata": {
  "kernelspec": {
   "display_name": "Python 3",
   "language": "python",
   "name": "python3"
  },
  "language_info": {
   "codemirror_mode": {
    "name": "ipython",
    "version": 3
   },
   "file_extension": ".py",
   "mimetype": "text/x-python",
   "name": "python",
   "nbconvert_exporter": "python",
   "pygments_lexer": "ipython3",
   "version": "3.7.2"
  }
 },
 "nbformat": 4,
 "nbformat_minor": 2
}
