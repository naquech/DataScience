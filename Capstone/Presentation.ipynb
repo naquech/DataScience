{
 "cells": [
  {
   "cell_type": "markdown",
   "metadata": {},
   "source": [
    "General requirements \n",
    "* Presentation notebook / Readme (can use sublime as html and convert or make it == to presentation notebook )\n",
    "* Abstract: a section that briefly explains your problem, your methodology, and your findings, and business recommendations as a result of your findings.\n",
    "* The technical analysis for a data science audience. This detailed technical analysis should explicitly follow a Data Science Process as outlined in the previous section.\n",
    "* Blog Post"
   ]
  },
  {
   "cell_type": "markdown",
   "metadata": {},
   "source": [
    "Notebooks\n",
    "* Presentation (includes consclussions)\n",
    "1. Data sourcing and cleaning\n",
    "2. Exploration \n",
    "3. Supervised learning models\n",
    "4. Unsupervised learning models "
   ]
  },
  {
   "cell_type": "markdown",
   "metadata": {},
   "source": [
    "# What's Seattle Reading?\n",
    "\n",
    "This raw data set is made available through the Open Data Program by the City of Seattle; it consists of monthly counts by title of checkout for all physical and digital items from 2005 to present from the Seattle Public Library. The set is updated at the beginning of each month, as of March 2019 it contained more than 33 million of entries with 11 columns. Each row is a checkout count with the following information:\n",
    "\n",
    "<table style=\"width:80%\">\n",
    "  <tr>\n",
    "    <th>Column Name</th>\n",
    "    <th>Description</th> \n",
    "    <th>Data Type</th>\n",
    "  </tr>\n",
    "  <tr>\n",
    "    <td>UsageClass</td>\n",
    "    <td>Denotes if item is “physical” or “digital”</td>\n",
    "    <td>text</td>\n",
    "  </tr>\n",
    "  <tr>\n",
    "    <td>CheckoutType</td>\n",
    "    <td>Denotes the vendor tool used to check out the item</td>\n",
    "    <td>text</td>\n",
    "  </tr>\n",
    "  <tr>\n",
    "    <td>MaterialType</td>\n",
    "    <td>Describes the type of item checked out (examples: book, song movie, music, magazine)</td>\n",
    "    <td>text</td>\n",
    "  </tr>\n",
    "  <tr>\n",
    "    <td>CheckoutYear</td>\n",
    "    <td>The 4-digit year of checkout for this record</td>\n",
    "    <td>number</td>\n",
    "  </tr>\n",
    "    <tr>\n",
    "    <td>CheckoutMonth</td>\n",
    "    <td>The month of checkout for this record</td>\n",
    "    <td>number</td>\n",
    "  </tr>\n",
    "    <tr>\n",
    "    <td>Checkouts</td>\n",
    "    <td>A count of the number of times the title was checked out within the “Checkout Month”</td>\n",
    "    <td>number</td>\n",
    "  </tr>\n",
    "    <tr>\n",
    "    <td>Title</td>\n",
    "    <td>The full title and subtitle of an individual item</td>\n",
    "    <td>text</td>\n",
    "  </tr>\n",
    "    <tr>\n",
    "    <td>Creator</td>\n",
    "    <td>The author or entity responsible for authoring the item</td>\n",
    "    <td>text</td>\n",
    "  </tr>\n",
    "    <tr>\n",
    "    <td>Subjects</td>\n",
    "    <td>The subject of the item as it appears in the catalog</td>\n",
    "    <td>text</td>\n",
    "  </tr>\n",
    "    <tr>\n",
    "    <td>Publisher</td>\n",
    "    <td>The publisher of the title</td>\n",
    "    <td>text</td>\n",
    "  </tr>\n",
    "    <tr>\n",
    "    <td>PublicationYear</td>\n",
    "    <td>The year from the catalog record in which the item was published, printed, or copyrighted.</td>\n",
    "    <td>text</td>\n",
    "  </tr>\n",
    "</table>\n",
    "\n",
    "Data source: https://data.seattle.gov/Community/Checkouts-by-Title/tmmm-ytt6 \n",
    "\n",
    "\n",
    "## Questions\n",
    "\n",
    "* Predict books that will be check out next month – time series analysis? Forecast with data for 2019...\n",
    "* What form/genre people in Seattle read most during 2018?\n",
    "* Do people read newly published books? (year of publication = Year checkout?)\n",
    "------\n",
    "* Analyze Location’s storage and capacity??? need to download Library collection inventory and merge datasets...\n",
    "* Logistic modeling?\n",
    "\n",
    "## Methodology\n",
    "\n",
    "OSEMiN\n",
    "\n",
    "<b>Obtain</b> Gather information, obtain the data.\n",
    "\n",
    "<b>Scrub</b> Clean, reduce noise, remove data that is not needed; check, remove or replace missing or null values, extract columns or format data types.\n",
    "\n",
    "<b>Explore</b> Set up the data, check for multicollinearity, make sure the dataset meets what is necessary for the type of model to apply later on.\n",
    "\n",
    "<b>Model</b> Implement supervised or unsupervised algorithms.\n",
    "\n",
    "<b>Interpret</b> Evaluate the results.\n",
    "\n"
   ]
  },
  {
   "cell_type": "markdown",
   "metadata": {},
   "source": [
    "## Analysis\n",
    "\n",
    "\n",
    "**** only relevant information from notebooks ****"
   ]
  },
  {
   "cell_type": "code",
   "execution_count": null,
   "metadata": {},
   "outputs": [],
   "source": []
  },
  {
   "cell_type": "code",
   "execution_count": null,
   "metadata": {},
   "outputs": [],
   "source": []
  },
  {
   "cell_type": "markdown",
   "metadata": {},
   "source": [
    "Dashboard\n",
    "\n",
    "* E-Books and audiobooks second largest checkout type\n",
    "* January and March -> higher volume of checkouts, slows down, picks up in summer months\n",
    "* Most read book in October was Fear : Trump in the White House  by Bob Woodward"
   ]
  },
  {
   "cell_type": "markdown",
   "metadata": {},
   "source": [
    "## Conclussions / Recomendations"
   ]
  },
  {
   "cell_type": "code",
   "execution_count": null,
   "metadata": {},
   "outputs": [],
   "source": []
  },
  {
   "cell_type": "code",
   "execution_count": null,
   "metadata": {},
   "outputs": [],
   "source": []
  },
  {
   "cell_type": "code",
   "execution_count": null,
   "metadata": {},
   "outputs": [],
   "source": []
  },
  {
   "cell_type": "code",
   "execution_count": null,
   "metadata": {},
   "outputs": [],
   "source": []
  },
  {
   "cell_type": "code",
   "execution_count": null,
   "metadata": {},
   "outputs": [],
   "source": []
  }
 ],
 "metadata": {
  "kernelspec": {
   "display_name": "Python 3",
   "language": "python",
   "name": "python3"
  },
  "language_info": {
   "codemirror_mode": {
    "name": "ipython",
    "version": 3
   },
   "file_extension": ".py",
   "mimetype": "text/x-python",
   "name": "python",
   "nbconvert_exporter": "python",
   "pygments_lexer": "ipython3",
   "version": "3.7.2"
  }
 },
 "nbformat": 4,
 "nbformat_minor": 2
}
