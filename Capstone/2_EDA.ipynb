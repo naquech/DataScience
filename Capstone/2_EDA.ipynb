{
 "cells": [
  {
   "cell_type": "markdown",
   "metadata": {},
   "source": [
    "# Data Exploration"
   ]
  },
  {
   "cell_type": "code",
   "execution_count": 1,
   "metadata": {},
   "outputs": [],
   "source": [
    "import pandas as pd\n",
    "import numpy as np\n",
    "\n",
    "import matplotlib.pyplot as plt\n",
    "import seaborn as sns\n",
    "#import plotly.plotly as py\n",
    "\n",
    "import warnings\n",
    "warnings.filterwarnings('ignore')"
   ]
  },
  {
   "cell_type": "code",
   "execution_count": 15,
   "metadata": {},
   "outputs": [],
   "source": []
  },
  {
   "cell_type": "code",
   "execution_count": 2,
   "metadata": {},
   "outputs": [],
   "source": [
    "data = pd.read_csv('Data/spl_clean.csv')"
   ]
  },
  {
   "cell_type": "code",
   "execution_count": null,
   "metadata": {},
   "outputs": [],
   "source": [
    "data.head()"
   ]
  },
  {
   "cell_type": "code",
   "execution_count": null,
   "metadata": {},
   "outputs": [],
   "source": [
    "data.shape"
   ]
  },
  {
   "cell_type": "code",
   "execution_count": null,
   "metadata": {},
   "outputs": [],
   "source": [
    "data.info"
   ]
  },
  {
   "cell_type": "code",
   "execution_count": 46,
   "metadata": {},
   "outputs": [
    {
     "ename": "KeyboardInterrupt",
     "evalue": "",
     "output_type": "error",
     "traceback": [
      "\u001b[0;31m---------------------------------------------------------------------------\u001b[0m",
      "\u001b[0;31mKeyboardInterrupt\u001b[0m                         Traceback (most recent call last)",
      "\u001b[0;32m<ipython-input-46-811a2046da5d>\u001b[0m in \u001b[0;36m<module>\u001b[0;34m()\u001b[0m\n\u001b[0;32m----> 1\u001b[0;31m \u001b[0mdata\u001b[0m\u001b[0;34m.\u001b[0m\u001b[0misna\u001b[0m\u001b[0;34m(\u001b[0m\u001b[0;34m)\u001b[0m\u001b[0;34m.\u001b[0m\u001b[0msum\u001b[0m\u001b[0;34m(\u001b[0m\u001b[0;34m)\u001b[0m\u001b[0;34m\u001b[0m\u001b[0;34m\u001b[0m\u001b[0m\n\u001b[0m",
      "\u001b[0;32m~/anaconda3/lib/python3.7/site-packages/pandas/core/frame.py\u001b[0m in \u001b[0;36misna\u001b[0;34m(self)\u001b[0m\n\u001b[1;32m   4148\u001b[0m     \u001b[0;34m@\u001b[0m\u001b[0mAppender\u001b[0m\u001b[0;34m(\u001b[0m\u001b[0m_shared_docs\u001b[0m\u001b[0;34m[\u001b[0m\u001b[0;34m'isna'\u001b[0m\u001b[0;34m]\u001b[0m \u001b[0;34m%\u001b[0m \u001b[0m_shared_doc_kwargs\u001b[0m\u001b[0;34m)\u001b[0m\u001b[0;34m\u001b[0m\u001b[0;34m\u001b[0m\u001b[0m\n\u001b[1;32m   4149\u001b[0m     \u001b[0;32mdef\u001b[0m \u001b[0misna\u001b[0m\u001b[0;34m(\u001b[0m\u001b[0mself\u001b[0m\u001b[0;34m)\u001b[0m\u001b[0;34m:\u001b[0m\u001b[0;34m\u001b[0m\u001b[0;34m\u001b[0m\u001b[0m\n\u001b[0;32m-> 4150\u001b[0;31m         \u001b[0;32mreturn\u001b[0m \u001b[0msuper\u001b[0m\u001b[0;34m(\u001b[0m\u001b[0mDataFrame\u001b[0m\u001b[0;34m,\u001b[0m \u001b[0mself\u001b[0m\u001b[0;34m)\u001b[0m\u001b[0;34m.\u001b[0m\u001b[0misna\u001b[0m\u001b[0;34m(\u001b[0m\u001b[0;34m)\u001b[0m\u001b[0;34m\u001b[0m\u001b[0;34m\u001b[0m\u001b[0m\n\u001b[0m\u001b[1;32m   4151\u001b[0m \u001b[0;34m\u001b[0m\u001b[0m\n\u001b[1;32m   4152\u001b[0m     \u001b[0;34m@\u001b[0m\u001b[0mAppender\u001b[0m\u001b[0;34m(\u001b[0m\u001b[0m_shared_docs\u001b[0m\u001b[0;34m[\u001b[0m\u001b[0;34m'isna'\u001b[0m\u001b[0;34m]\u001b[0m \u001b[0;34m%\u001b[0m \u001b[0m_shared_doc_kwargs\u001b[0m\u001b[0;34m)\u001b[0m\u001b[0;34m\u001b[0m\u001b[0;34m\u001b[0m\u001b[0m\n",
      "\u001b[0;32m~/anaconda3/lib/python3.7/site-packages/pandas/core/generic.py\u001b[0m in \u001b[0;36misna\u001b[0;34m(self)\u001b[0m\n\u001b[1;32m   6220\u001b[0m     \u001b[0;34m@\u001b[0m\u001b[0mAppender\u001b[0m\u001b[0;34m(\u001b[0m\u001b[0m_shared_docs\u001b[0m\u001b[0;34m[\u001b[0m\u001b[0;34m'isna'\u001b[0m\u001b[0;34m]\u001b[0m \u001b[0;34m%\u001b[0m \u001b[0m_shared_doc_kwargs\u001b[0m\u001b[0;34m)\u001b[0m\u001b[0;34m\u001b[0m\u001b[0;34m\u001b[0m\u001b[0m\n\u001b[1;32m   6221\u001b[0m     \u001b[0;32mdef\u001b[0m \u001b[0misna\u001b[0m\u001b[0;34m(\u001b[0m\u001b[0mself\u001b[0m\u001b[0;34m)\u001b[0m\u001b[0;34m:\u001b[0m\u001b[0;34m\u001b[0m\u001b[0;34m\u001b[0m\u001b[0m\n\u001b[0;32m-> 6222\u001b[0;31m         \u001b[0;32mreturn\u001b[0m \u001b[0misna\u001b[0m\u001b[0;34m(\u001b[0m\u001b[0mself\u001b[0m\u001b[0;34m)\u001b[0m\u001b[0;34m.\u001b[0m\u001b[0m__finalize__\u001b[0m\u001b[0;34m(\u001b[0m\u001b[0mself\u001b[0m\u001b[0;34m)\u001b[0m\u001b[0;34m\u001b[0m\u001b[0;34m\u001b[0m\u001b[0m\n\u001b[0m\u001b[1;32m   6223\u001b[0m \u001b[0;34m\u001b[0m\u001b[0m\n\u001b[1;32m   6224\u001b[0m     \u001b[0;34m@\u001b[0m\u001b[0mAppender\u001b[0m\u001b[0;34m(\u001b[0m\u001b[0m_shared_docs\u001b[0m\u001b[0;34m[\u001b[0m\u001b[0;34m'isna'\u001b[0m\u001b[0;34m]\u001b[0m \u001b[0;34m%\u001b[0m \u001b[0m_shared_doc_kwargs\u001b[0m\u001b[0;34m)\u001b[0m\u001b[0;34m\u001b[0m\u001b[0;34m\u001b[0m\u001b[0m\n",
      "\u001b[0;32m~/anaconda3/lib/python3.7/site-packages/pandas/core/dtypes/missing.py\u001b[0m in \u001b[0;36misna\u001b[0;34m(obj)\u001b[0m\n\u001b[1;32m    104\u001b[0m     \u001b[0mName\u001b[0m\u001b[0;34m:\u001b[0m \u001b[0;36m1\u001b[0m\u001b[0;34m,\u001b[0m \u001b[0mdtype\u001b[0m\u001b[0;34m:\u001b[0m \u001b[0mbool\u001b[0m\u001b[0;34m\u001b[0m\u001b[0;34m\u001b[0m\u001b[0m\n\u001b[1;32m    105\u001b[0m     \"\"\"\n\u001b[0;32m--> 106\u001b[0;31m     \u001b[0;32mreturn\u001b[0m \u001b[0m_isna\u001b[0m\u001b[0;34m(\u001b[0m\u001b[0mobj\u001b[0m\u001b[0;34m)\u001b[0m\u001b[0;34m\u001b[0m\u001b[0;34m\u001b[0m\u001b[0m\n\u001b[0m\u001b[1;32m    107\u001b[0m \u001b[0;34m\u001b[0m\u001b[0m\n\u001b[1;32m    108\u001b[0m \u001b[0;34m\u001b[0m\u001b[0m\n",
      "\u001b[0;32m~/anaconda3/lib/python3.7/site-packages/pandas/core/dtypes/missing.py\u001b[0m in \u001b[0;36m_isna_new\u001b[0;34m(obj)\u001b[0m\n\u001b[1;32m    120\u001b[0m         \u001b[0;32mreturn\u001b[0m \u001b[0m_isna_ndarraylike\u001b[0m\u001b[0;34m(\u001b[0m\u001b[0mobj\u001b[0m\u001b[0;34m)\u001b[0m\u001b[0;34m\u001b[0m\u001b[0;34m\u001b[0m\u001b[0m\n\u001b[1;32m    121\u001b[0m     \u001b[0;32melif\u001b[0m \u001b[0misinstance\u001b[0m\u001b[0;34m(\u001b[0m\u001b[0mobj\u001b[0m\u001b[0;34m,\u001b[0m \u001b[0mABCGeneric\u001b[0m\u001b[0;34m)\u001b[0m\u001b[0;34m:\u001b[0m\u001b[0;34m\u001b[0m\u001b[0;34m\u001b[0m\u001b[0m\n\u001b[0;32m--> 122\u001b[0;31m         \u001b[0;32mreturn\u001b[0m \u001b[0mobj\u001b[0m\u001b[0;34m.\u001b[0m\u001b[0m_constructor\u001b[0m\u001b[0;34m(\u001b[0m\u001b[0mobj\u001b[0m\u001b[0;34m.\u001b[0m\u001b[0m_data\u001b[0m\u001b[0;34m.\u001b[0m\u001b[0misna\u001b[0m\u001b[0;34m(\u001b[0m\u001b[0mfunc\u001b[0m\u001b[0;34m=\u001b[0m\u001b[0misna\u001b[0m\u001b[0;34m)\u001b[0m\u001b[0;34m)\u001b[0m\u001b[0;34m\u001b[0m\u001b[0;34m\u001b[0m\u001b[0m\n\u001b[0m\u001b[1;32m    123\u001b[0m     \u001b[0;32melif\u001b[0m \u001b[0misinstance\u001b[0m\u001b[0;34m(\u001b[0m\u001b[0mobj\u001b[0m\u001b[0;34m,\u001b[0m \u001b[0mlist\u001b[0m\u001b[0;34m)\u001b[0m\u001b[0;34m:\u001b[0m\u001b[0;34m\u001b[0m\u001b[0;34m\u001b[0m\u001b[0m\n\u001b[1;32m    124\u001b[0m         \u001b[0;32mreturn\u001b[0m \u001b[0m_isna_ndarraylike\u001b[0m\u001b[0;34m(\u001b[0m\u001b[0mnp\u001b[0m\u001b[0;34m.\u001b[0m\u001b[0masarray\u001b[0m\u001b[0;34m(\u001b[0m\u001b[0mobj\u001b[0m\u001b[0;34m,\u001b[0m \u001b[0mdtype\u001b[0m\u001b[0;34m=\u001b[0m\u001b[0mobject\u001b[0m\u001b[0;34m)\u001b[0m\u001b[0;34m)\u001b[0m\u001b[0;34m\u001b[0m\u001b[0;34m\u001b[0m\u001b[0m\n",
      "\u001b[0;32m~/anaconda3/lib/python3.7/site-packages/pandas/core/internals.py\u001b[0m in \u001b[0;36misna\u001b[0;34m(self, func, **kwargs)\u001b[0m\n\u001b[1;32m   3679\u001b[0m \u001b[0;34m\u001b[0m\u001b[0m\n\u001b[1;32m   3680\u001b[0m     \u001b[0;32mdef\u001b[0m \u001b[0misna\u001b[0m\u001b[0;34m(\u001b[0m\u001b[0mself\u001b[0m\u001b[0;34m,\u001b[0m \u001b[0mfunc\u001b[0m\u001b[0;34m,\u001b[0m \u001b[0;34m**\u001b[0m\u001b[0mkwargs\u001b[0m\u001b[0;34m)\u001b[0m\u001b[0;34m:\u001b[0m\u001b[0;34m\u001b[0m\u001b[0;34m\u001b[0m\u001b[0m\n\u001b[0;32m-> 3681\u001b[0;31m         \u001b[0;32mreturn\u001b[0m \u001b[0mself\u001b[0m\u001b[0;34m.\u001b[0m\u001b[0mapply\u001b[0m\u001b[0;34m(\u001b[0m\u001b[0;34m'apply'\u001b[0m\u001b[0;34m,\u001b[0m \u001b[0mfunc\u001b[0m\u001b[0;34m=\u001b[0m\u001b[0mfunc\u001b[0m\u001b[0;34m,\u001b[0m \u001b[0;34m**\u001b[0m\u001b[0mkwargs\u001b[0m\u001b[0;34m)\u001b[0m\u001b[0;34m\u001b[0m\u001b[0;34m\u001b[0m\u001b[0m\n\u001b[0m\u001b[1;32m   3682\u001b[0m \u001b[0;34m\u001b[0m\u001b[0m\n\u001b[1;32m   3683\u001b[0m     \u001b[0;32mdef\u001b[0m \u001b[0mwhere\u001b[0m\u001b[0;34m(\u001b[0m\u001b[0mself\u001b[0m\u001b[0;34m,\u001b[0m \u001b[0;34m**\u001b[0m\u001b[0mkwargs\u001b[0m\u001b[0;34m)\u001b[0m\u001b[0;34m:\u001b[0m\u001b[0;34m\u001b[0m\u001b[0;34m\u001b[0m\u001b[0m\n",
      "\u001b[0;32m~/anaconda3/lib/python3.7/site-packages/pandas/core/internals.py\u001b[0m in \u001b[0;36mapply\u001b[0;34m(self, f, axes, filter, do_integrity_check, consolidate, **kwargs)\u001b[0m\n\u001b[1;32m   3579\u001b[0m \u001b[0;34m\u001b[0m\u001b[0m\n\u001b[1;32m   3580\u001b[0m             \u001b[0mkwargs\u001b[0m\u001b[0;34m[\u001b[0m\u001b[0;34m'mgr'\u001b[0m\u001b[0;34m]\u001b[0m \u001b[0;34m=\u001b[0m \u001b[0mself\u001b[0m\u001b[0;34m\u001b[0m\u001b[0;34m\u001b[0m\u001b[0m\n\u001b[0;32m-> 3581\u001b[0;31m             \u001b[0mapplied\u001b[0m \u001b[0;34m=\u001b[0m \u001b[0mgetattr\u001b[0m\u001b[0;34m(\u001b[0m\u001b[0mb\u001b[0m\u001b[0;34m,\u001b[0m \u001b[0mf\u001b[0m\u001b[0;34m)\u001b[0m\u001b[0;34m(\u001b[0m\u001b[0;34m**\u001b[0m\u001b[0mkwargs\u001b[0m\u001b[0;34m)\u001b[0m\u001b[0;34m\u001b[0m\u001b[0;34m\u001b[0m\u001b[0m\n\u001b[0m\u001b[1;32m   3582\u001b[0m             \u001b[0mresult_blocks\u001b[0m \u001b[0;34m=\u001b[0m \u001b[0m_extend_blocks\u001b[0m\u001b[0;34m(\u001b[0m\u001b[0mapplied\u001b[0m\u001b[0;34m,\u001b[0m \u001b[0mresult_blocks\u001b[0m\u001b[0;34m)\u001b[0m\u001b[0;34m\u001b[0m\u001b[0;34m\u001b[0m\u001b[0m\n\u001b[1;32m   3583\u001b[0m \u001b[0;34m\u001b[0m\u001b[0m\n",
      "\u001b[0;32m~/anaconda3/lib/python3.7/site-packages/pandas/core/internals.py\u001b[0m in \u001b[0;36mapply\u001b[0;34m(self, func, mgr, **kwargs)\u001b[0m\n\u001b[1;32m    395\u001b[0m         \"\"\"\n\u001b[1;32m    396\u001b[0m         \u001b[0;32mwith\u001b[0m \u001b[0mnp\u001b[0m\u001b[0;34m.\u001b[0m\u001b[0merrstate\u001b[0m\u001b[0;34m(\u001b[0m\u001b[0mall\u001b[0m\u001b[0;34m=\u001b[0m\u001b[0;34m'ignore'\u001b[0m\u001b[0;34m)\u001b[0m\u001b[0;34m:\u001b[0m\u001b[0;34m\u001b[0m\u001b[0;34m\u001b[0m\u001b[0m\n\u001b[0;32m--> 397\u001b[0;31m             \u001b[0mresult\u001b[0m \u001b[0;34m=\u001b[0m \u001b[0mfunc\u001b[0m\u001b[0;34m(\u001b[0m\u001b[0mself\u001b[0m\u001b[0;34m.\u001b[0m\u001b[0mvalues\u001b[0m\u001b[0;34m,\u001b[0m \u001b[0;34m**\u001b[0m\u001b[0mkwargs\u001b[0m\u001b[0;34m)\u001b[0m\u001b[0;34m\u001b[0m\u001b[0;34m\u001b[0m\u001b[0m\n\u001b[0m\u001b[1;32m    398\u001b[0m         \u001b[0;32mif\u001b[0m \u001b[0;32mnot\u001b[0m \u001b[0misinstance\u001b[0m\u001b[0;34m(\u001b[0m\u001b[0mresult\u001b[0m\u001b[0;34m,\u001b[0m \u001b[0mBlock\u001b[0m\u001b[0;34m)\u001b[0m\u001b[0;34m:\u001b[0m\u001b[0;34m\u001b[0m\u001b[0;34m\u001b[0m\u001b[0m\n\u001b[1;32m    399\u001b[0m             result = self.make_block(values=_block_shape(result,\n",
      "\u001b[0;32m~/anaconda3/lib/python3.7/site-packages/pandas/core/dtypes/missing.py\u001b[0m in \u001b[0;36misna\u001b[0;34m(obj)\u001b[0m\n\u001b[1;32m    104\u001b[0m     \u001b[0mName\u001b[0m\u001b[0;34m:\u001b[0m \u001b[0;36m1\u001b[0m\u001b[0;34m,\u001b[0m \u001b[0mdtype\u001b[0m\u001b[0;34m:\u001b[0m \u001b[0mbool\u001b[0m\u001b[0;34m\u001b[0m\u001b[0;34m\u001b[0m\u001b[0m\n\u001b[1;32m    105\u001b[0m     \"\"\"\n\u001b[0;32m--> 106\u001b[0;31m     \u001b[0;32mreturn\u001b[0m \u001b[0m_isna\u001b[0m\u001b[0;34m(\u001b[0m\u001b[0mobj\u001b[0m\u001b[0;34m)\u001b[0m\u001b[0;34m\u001b[0m\u001b[0;34m\u001b[0m\u001b[0m\n\u001b[0m\u001b[1;32m    107\u001b[0m \u001b[0;34m\u001b[0m\u001b[0m\n\u001b[1;32m    108\u001b[0m \u001b[0;34m\u001b[0m\u001b[0m\n",
      "\u001b[0;32m~/anaconda3/lib/python3.7/site-packages/pandas/core/dtypes/missing.py\u001b[0m in \u001b[0;36m_isna_new\u001b[0;34m(obj)\u001b[0m\n\u001b[1;32m    118\u001b[0m     elif isinstance(obj, (ABCSeries, np.ndarray, ABCIndexClass,\n\u001b[1;32m    119\u001b[0m                           ABCExtensionArray)):\n\u001b[0;32m--> 120\u001b[0;31m         \u001b[0;32mreturn\u001b[0m \u001b[0m_isna_ndarraylike\u001b[0m\u001b[0;34m(\u001b[0m\u001b[0mobj\u001b[0m\u001b[0;34m)\u001b[0m\u001b[0;34m\u001b[0m\u001b[0;34m\u001b[0m\u001b[0m\n\u001b[0m\u001b[1;32m    121\u001b[0m     \u001b[0;32melif\u001b[0m \u001b[0misinstance\u001b[0m\u001b[0;34m(\u001b[0m\u001b[0mobj\u001b[0m\u001b[0;34m,\u001b[0m \u001b[0mABCGeneric\u001b[0m\u001b[0;34m)\u001b[0m\u001b[0;34m:\u001b[0m\u001b[0;34m\u001b[0m\u001b[0;34m\u001b[0m\u001b[0m\n\u001b[1;32m    122\u001b[0m         \u001b[0;32mreturn\u001b[0m \u001b[0mobj\u001b[0m\u001b[0;34m.\u001b[0m\u001b[0m_constructor\u001b[0m\u001b[0;34m(\u001b[0m\u001b[0mobj\u001b[0m\u001b[0;34m.\u001b[0m\u001b[0m_data\u001b[0m\u001b[0;34m.\u001b[0m\u001b[0misna\u001b[0m\u001b[0;34m(\u001b[0m\u001b[0mfunc\u001b[0m\u001b[0;34m=\u001b[0m\u001b[0misna\u001b[0m\u001b[0;34m)\u001b[0m\u001b[0;34m)\u001b[0m\u001b[0;34m\u001b[0m\u001b[0;34m\u001b[0m\u001b[0m\n",
      "\u001b[0;32m~/anaconda3/lib/python3.7/site-packages/pandas/core/dtypes/missing.py\u001b[0m in \u001b[0;36m_isna_ndarraylike\u001b[0;34m(obj)\u001b[0m\n\u001b[1;32m    211\u001b[0m             \u001b[0;31m# object array of non-strings\u001b[0m\u001b[0;34m\u001b[0m\u001b[0;34m\u001b[0m\u001b[0;34m\u001b[0m\u001b[0m\n\u001b[1;32m    212\u001b[0m             \u001b[0mresult\u001b[0m \u001b[0;34m=\u001b[0m \u001b[0mnp\u001b[0m\u001b[0;34m.\u001b[0m\u001b[0mempty\u001b[0m\u001b[0;34m(\u001b[0m\u001b[0mshape\u001b[0m\u001b[0;34m,\u001b[0m \u001b[0mdtype\u001b[0m\u001b[0;34m=\u001b[0m\u001b[0mbool\u001b[0m\u001b[0;34m)\u001b[0m\u001b[0;34m\u001b[0m\u001b[0;34m\u001b[0m\u001b[0m\n\u001b[0;32m--> 213\u001b[0;31m             \u001b[0mvec\u001b[0m \u001b[0;34m=\u001b[0m \u001b[0mlibmissing\u001b[0m\u001b[0;34m.\u001b[0m\u001b[0misnaobj\u001b[0m\u001b[0;34m(\u001b[0m\u001b[0mvalues\u001b[0m\u001b[0;34m.\u001b[0m\u001b[0mravel\u001b[0m\u001b[0;34m(\u001b[0m\u001b[0;34m)\u001b[0m\u001b[0;34m)\u001b[0m\u001b[0;34m\u001b[0m\u001b[0;34m\u001b[0m\u001b[0m\n\u001b[0m\u001b[1;32m    214\u001b[0m             \u001b[0mresult\u001b[0m\u001b[0;34m[\u001b[0m\u001b[0;34m...\u001b[0m\u001b[0;34m]\u001b[0m \u001b[0;34m=\u001b[0m \u001b[0mvec\u001b[0m\u001b[0;34m.\u001b[0m\u001b[0mreshape\u001b[0m\u001b[0;34m(\u001b[0m\u001b[0mshape\u001b[0m\u001b[0;34m)\u001b[0m\u001b[0;34m\u001b[0m\u001b[0;34m\u001b[0m\u001b[0m\n\u001b[1;32m    215\u001b[0m \u001b[0;34m\u001b[0m\u001b[0m\n",
      "\u001b[0;31mKeyboardInterrupt\u001b[0m: "
     ]
    }
   ],
   "source": [
    "data.isna().sum()"
   ]
  },
  {
   "cell_type": "code",
   "execution_count": 30,
   "metadata": {},
   "outputs": [],
   "source": [
    "data['Checkouts'].dropna(inplace=True);"
   ]
  },
  {
   "cell_type": "code",
   "execution_count": 32,
   "metadata": {},
   "outputs": [
    {
     "data": {
      "text/plain": [
       "(32723545, 11)"
      ]
     },
     "execution_count": 32,
     "metadata": {},
     "output_type": "execute_result"
    }
   ],
   "source": [
    "data.shape"
   ]
  },
  {
   "cell_type": "markdown",
   "metadata": {},
   "source": [
    "------\n",
    "## Visual Analysis"
   ]
  },
  {
   "cell_type": "code",
   "execution_count": 35,
   "metadata": {},
   "outputs": [
    {
     "data": {
      "image/png": "[encoded data removed]",
      "text/plain": [
       "<Figure size 360x360 with 1 Axes>"
      ]
     },
     "metadata": {
      "needs_background": "light"
     },
     "output_type": "display_data"
    }
   ],
   "source": [
    "sns.catplot(x=\"UsageClass\", kind=\"count\", data=data);"
   ]
  },
  {
   "cell_type": "markdown",
   "metadata": {},
   "source": [
    "#### Usage comparison over the years"
   ]
  },
  {
   "cell_type": "code",
   "execution_count": 43,
   "metadata": {},
   "outputs": [
    {
     "data": {
      "image/png": "[encoded data removed]",
      "text/plain": [
       "<Figure size 1080x360 with 1 Axes>"
      ]
     },
     "metadata": {
      "needs_background": "light"
     },
     "output_type": "display_data"
    }
   ],
   "source": [
    "data.groupby(['CheckoutYear','UsageClass']).size().unstack().plot(kind='bar',stacked=True, figsize=(15,5));"
   ]
  },
  {
   "cell_type": "markdown",
   "metadata": {},
   "source": [
    "* Physical formats are most common. The library offers different sources for digital checkouts of books and music mainly; digital checkouts declined last year. \n",
    "* Possible recomendations: promote digital content at the library branches. Available format tabs are displayed in the online catalog with little information (only the word eBook) and some audiences may not understand or be familiar that this includes downloading and reading in their Kindles, NOOKs, phones, computers/tablets, MP3 players, etc."
   ]
  },
  {
   "cell_type": "code",
   "execution_count": 44,
   "metadata": {},
   "outputs": [
    {
     "data": {
      "image/png": "[encoded data removed]",
      "text/plain": [
       "<Figure size 1080x360 with 1 Axes>"
      ]
     },
     "metadata": {
      "needs_background": "light"
     },
     "output_type": "display_data"
    }
   ],
   "source": [
    "plt.figure(figsize=(15,5))\n",
    "sns.countplot(y=\"CheckoutType\", data=data, color=\"c\");"
   ]
  },
  {
   "cell_type": "code",
   "execution_count": 19,
   "metadata": {},
   "outputs": [
    {
     "data": {
      "text/plain": [
       "<matplotlib.axes._subplots.AxesSubplot at 0x1ab37a22b0>"
      ]
     },
     "execution_count": 19,
     "metadata": {},
     "output_type": "execute_result"
    },
    {
     "data": {
      "image/png": "[encoded data removed]",
      "text/plain": [
       "<Figure size 1080x360 with 1 Axes>"
      ]
     },
     "metadata": {
      "needs_background": "light"
     },
     "output_type": "display_data"
    }
   ],
   "source": [
    "series = data['MaterialType'].value_counts()[:20];\n",
    "series.plot(kind='bar', figsize=(15, 5), title='Material Type Counts')"
   ]
  },
  {
   "cell_type": "code",
   "execution_count": 21,
   "metadata": {},
   "outputs": [
    {
     "data": {
      "image/png": "[encoded data removed]",
      "text/plain": [
       "<Figure size 1080x720 with 1 Axes>"
      ]
     },
     "metadata": {
      "needs_background": "light"
     },
     "output_type": "display_data"
    }
   ],
   "source": [
    "plt.figure(figsize=(15,10))\n",
    "sns.countplot(y=\"CheckoutYear\", data=data, palette='Greens');"
   ]
  },
  {
   "cell_type": "code",
   "execution_count": 26,
   "metadata": {},
   "outputs": [
    {
     "data": {
      "text/plain": [
       "Unknown                                  200772\n",
       "Fiction, Literature                       49932\n",
       "Fiction, Mystery                          48521\n",
       "Fiction, Romance                          26332\n",
       "Juvenile Fiction, Juvenile Literature     23152\n",
       "Name: Subjects, dtype: int64"
      ]
     },
     "execution_count": 26,
     "metadata": {},
     "output_type": "execute_result"
    }
   ],
   "source": [
    "# Subjects in 2017?\n",
    "\n",
    "subjects_2017 = data[data.CheckoutYear == 2017]\n",
    "subjects_2017.Subjects.value_counts()[:5]"
   ]
  },
  {
   "cell_type": "code",
   "execution_count": null,
   "metadata": {},
   "outputs": [],
   "source": [
    "# Most  checked put title by year"
   ]
  },
  {
   "cell_type": "code",
   "execution_count": null,
   "metadata": {},
   "outputs": [],
   "source": []
  },
  {
   "cell_type": "code",
   "execution_count": null,
   "metadata": {},
   "outputs": [],
   "source": []
  },
  {
   "cell_type": "code",
   "execution_count": 23,
   "metadata": {},
   "outputs": [
    {
     "data": {
      "image/png": "[encoded data removed]",
      "text/plain": [
       "<Figure size 1080x720 with 1 Axes>"
      ]
     },
     "metadata": {
      "needs_background": "light"
     },
     "output_type": "display_data"
    }
   ],
   "source": [
    "plt.figure(figsize=(15,10))\n",
    "sns.countplot(y=\"CheckoutMonth\", data=data, palette='Blues');"
   ]
  },
  {
   "cell_type": "code",
   "execution_count": 8,
   "metadata": {},
   "outputs": [
    {
     "data": {
      "text/html": [
       "<div>\n",
       "<style scoped>\n",
       "    .dataframe tbody tr th:only-of-type {\n",
       "        vertical-align: middle;\n",
       "    }\n",
       "\n",
       "    .dataframe tbody tr th {\n",
       "        vertical-align: top;\n",
       "    }\n",
       "\n",
       "    .dataframe thead th {\n",
       "        text-align: right;\n",
       "    }\n",
       "</style>\n",
       "<table border=\"1\" class=\"dataframe\">\n",
       "  <thead>\n",
       "    <tr style=\"text-align: right;\">\n",
       "      <th></th>\n",
       "      <th>UsageClass</th>\n",
       "      <th>CheckoutType</th>\n",
       "      <th>MaterialType</th>\n",
       "      <th>CheckoutMonth</th>\n",
       "      <th>Checkouts</th>\n",
       "      <th>Title</th>\n",
       "      <th>Creator</th>\n",
       "      <th>Subjects</th>\n",
       "      <th>Publisher</th>\n",
       "      <th>PublicationYear</th>\n",
       "    </tr>\n",
       "  </thead>\n",
       "  <tbody>\n",
       "    <tr>\n",
       "      <th>2233873</th>\n",
       "      <td>Physical</td>\n",
       "      <td>Horizon</td>\n",
       "      <td>BOOK</td>\n",
       "      <td>10</td>\n",
       "      <td>847.0</td>\n",
       "      <td>Fear : Trump in the White House / Bob Woodward.</td>\n",
       "      <td>Woodward, Bob, 1943-</td>\n",
       "      <td>Trump Donald 1946, United States Politics and ...</td>\n",
       "      <td>Simon &amp; Schuster,</td>\n",
       "      <td>2018.</td>\n",
       "    </tr>\n",
       "    <tr>\n",
       "      <th>519771</th>\n",
       "      <td>Physical</td>\n",
       "      <td>Horizon</td>\n",
       "      <td>BOOK</td>\n",
       "      <td>3</td>\n",
       "      <td>766.0</td>\n",
       "      <td>Fire and fury : inside the Trump White House /...</td>\n",
       "      <td>Wolff, Michael, 1953-</td>\n",
       "      <td>Trump Donald 1946, Bannon Stephen K, President...</td>\n",
       "      <td>Henry Holt and Company,</td>\n",
       "      <td>2018.</td>\n",
       "    </tr>\n",
       "    <tr>\n",
       "      <th>2538342</th>\n",
       "      <td>Physical</td>\n",
       "      <td>Horizon</td>\n",
       "      <td>BOOK</td>\n",
       "      <td>12</td>\n",
       "      <td>735.0</td>\n",
       "      <td>Becoming / Michelle Obama.</td>\n",
       "      <td>Obama, Michelle, 1964-</td>\n",
       "      <td>Obama Michelle 1964, Presidents spouses United...</td>\n",
       "      <td>Crown,</td>\n",
       "      <td>[2018]</td>\n",
       "    </tr>\n",
       "    <tr>\n",
       "      <th>2436853</th>\n",
       "      <td>Digital</td>\n",
       "      <td>OverDrive</td>\n",
       "      <td>AUDIOBOOK</td>\n",
       "      <td>11</td>\n",
       "      <td>716.0</td>\n",
       "      <td>The Red Pencil (Unabridged)</td>\n",
       "      <td>Andrea Davis Pinkney</td>\n",
       "      <td>Juvenile Fiction, Juvenile Literature</td>\n",
       "      <td>Hachette Audio</td>\n",
       "      <td>2014</td>\n",
       "    </tr>\n",
       "    <tr>\n",
       "      <th>2344666</th>\n",
       "      <td>Physical</td>\n",
       "      <td>Horizon</td>\n",
       "      <td>BOOK</td>\n",
       "      <td>11</td>\n",
       "      <td>691.0</td>\n",
       "      <td>Fear : Trump in the White House / Bob Woodward.</td>\n",
       "      <td>Woodward, Bob, 1943-</td>\n",
       "      <td>Trump Donald 1946, United States Politics and ...</td>\n",
       "      <td>Simon &amp; Schuster,</td>\n",
       "      <td>2018.</td>\n",
       "    </tr>\n",
       "    <tr>\n",
       "      <th>2428767</th>\n",
       "      <td>Physical</td>\n",
       "      <td>Horizon</td>\n",
       "      <td>BOOK</td>\n",
       "      <td>11</td>\n",
       "      <td>687.0</td>\n",
       "      <td>Dark sacred night / Michael Connelly.</td>\n",
       "      <td>Connelly, Michael, 1956-</td>\n",
       "      <td>Bosch Harry Fiction, Policewomen Fiction, Cold...</td>\n",
       "      <td>Little, Brown and Company,</td>\n",
       "      <td>2018.</td>\n",
       "    </tr>\n",
       "    <tr>\n",
       "      <th>415846</th>\n",
       "      <td>Physical</td>\n",
       "      <td>Horizon</td>\n",
       "      <td>BOOK</td>\n",
       "      <td>2</td>\n",
       "      <td>684.0</td>\n",
       "      <td>Fire and fury : inside the Trump White House /...</td>\n",
       "      <td>Wolff, Michael, 1953-</td>\n",
       "      <td>Trump Donald 1946, Bannon Stephen K, President...</td>\n",
       "      <td>Henry Holt and Company,</td>\n",
       "      <td>2018.</td>\n",
       "    </tr>\n",
       "    <tr>\n",
       "      <th>1074632</th>\n",
       "      <td>Physical</td>\n",
       "      <td>Horizon</td>\n",
       "      <td>BOOK</td>\n",
       "      <td>5</td>\n",
       "      <td>671.0</td>\n",
       "      <td>A higher loyalty : truth, lies, and leadership...</td>\n",
       "      <td>Comey, James B., Jr., 1960-</td>\n",
       "      <td>Comey James B Jr 1960, United States Federal B...</td>\n",
       "      <td>Flatiron Books,</td>\n",
       "      <td>2018.</td>\n",
       "    </tr>\n",
       "    <tr>\n",
       "      <th>754838</th>\n",
       "      <td>Physical</td>\n",
       "      <td>Horizon</td>\n",
       "      <td>BOOK</td>\n",
       "      <td>4</td>\n",
       "      <td>669.0</td>\n",
       "      <td>Fire and fury : inside the Trump White House /...</td>\n",
       "      <td>Wolff, Michael, 1953-</td>\n",
       "      <td>Trump Donald 1946, Bannon Stephen K, President...</td>\n",
       "      <td>Henry Holt and Company,</td>\n",
       "      <td>2018.</td>\n",
       "    </tr>\n",
       "    <tr>\n",
       "      <th>207030</th>\n",
       "      <td>Physical</td>\n",
       "      <td>Horizon</td>\n",
       "      <td>BOOK</td>\n",
       "      <td>1</td>\n",
       "      <td>668.0</td>\n",
       "      <td>Manhattan Beach : a novel / Jennifer Egan.</td>\n",
       "      <td>Egan, Jennifer</td>\n",
       "      <td>Young women New York State New York Fiction, W...</td>\n",
       "      <td>Scribner,</td>\n",
       "      <td>2017.</td>\n",
       "    </tr>\n",
       "    <tr>\n",
       "      <th>17076</th>\n",
       "      <td>Physical</td>\n",
       "      <td>Horizon</td>\n",
       "      <td>BOOK</td>\n",
       "      <td>1</td>\n",
       "      <td>667.0</td>\n",
       "      <td>Artemis : a novel / Andy Weir.</td>\n",
       "      <td>Weir, Andy</td>\n",
       "      <td>Moon Fiction, Smuggling Fiction, Conspiracies ...</td>\n",
       "      <td>Crown,</td>\n",
       "      <td>[2017]</td>\n",
       "    </tr>\n",
       "    <tr>\n",
       "      <th>2529215</th>\n",
       "      <td>Physical</td>\n",
       "      <td>Horizon</td>\n",
       "      <td>BOOK</td>\n",
       "      <td>12</td>\n",
       "      <td>660.0</td>\n",
       "      <td>Fear : Trump in the White House / Bob Woodward.</td>\n",
       "      <td>Woodward, Bob, 1943-</td>\n",
       "      <td>Trump Donald 1946, United States Politics and ...</td>\n",
       "      <td>Simon &amp; Schuster,</td>\n",
       "      <td>2018.</td>\n",
       "    </tr>\n",
       "    <tr>\n",
       "      <th>2203983</th>\n",
       "      <td>Physical</td>\n",
       "      <td>Horizon</td>\n",
       "      <td>BOOK</td>\n",
       "      <td>10</td>\n",
       "      <td>658.0</td>\n",
       "      <td>Transcription / Kate Atkinson.</td>\n",
       "      <td>Atkinson, Kate</td>\n",
       "      <td>Great Britain MI5 Officials and employees Fict...</td>\n",
       "      <td>Little, Brown and Company, a division of Hache...</td>\n",
       "      <td>[2018]</td>\n",
       "    </tr>\n",
       "    <tr>\n",
       "      <th>48171</th>\n",
       "      <td>Physical</td>\n",
       "      <td>Horizon</td>\n",
       "      <td>REGPRINT</td>\n",
       "      <td>1</td>\n",
       "      <td>654.0</td>\n",
       "      <td>Turtles all the way down / John Green.</td>\n",
       "      <td>Green, John, 1977-</td>\n",
       "      <td>Teenage girls Juvenile fiction, Obsessive comp...</td>\n",
       "      <td>Dutton Books,</td>\n",
       "      <td>[2017]</td>\n",
       "    </tr>\n",
       "    <tr>\n",
       "      <th>2326239</th>\n",
       "      <td>Physical</td>\n",
       "      <td>Horizon</td>\n",
       "      <td>BOOK</td>\n",
       "      <td>11</td>\n",
       "      <td>640.0</td>\n",
       "      <td>Past tense / Lee Child.</td>\n",
       "      <td>Child, Lee</td>\n",
       "      <td>Reacher Jack Fictitious character Fiction, Voy...</td>\n",
       "      <td>Delacorte Press,</td>\n",
       "      <td>2018.</td>\n",
       "    </tr>\n",
       "    <tr>\n",
       "      <th>2591467</th>\n",
       "      <td>Physical</td>\n",
       "      <td>Horizon</td>\n",
       "      <td>BOOK</td>\n",
       "      <td>12</td>\n",
       "      <td>637.0</td>\n",
       "      <td>Kingdom of the blind / Louise Penny.</td>\n",
       "      <td>Penny, Louise</td>\n",
       "      <td>Gamache Armand Fictitious character Fiction, E...</td>\n",
       "      <td>Minotaur Books,</td>\n",
       "      <td>2018.</td>\n",
       "    </tr>\n",
       "    <tr>\n",
       "      <th>1317138</th>\n",
       "      <td>Physical</td>\n",
       "      <td>Horizon</td>\n",
       "      <td>BOOK</td>\n",
       "      <td>6</td>\n",
       "      <td>637.0</td>\n",
       "      <td>A higher loyalty : truth, lies, and leadership...</td>\n",
       "      <td>Comey, James B., Jr., 1960-</td>\n",
       "      <td>Comey James B Jr 1960, United States Federal B...</td>\n",
       "      <td>Flatiron Books,</td>\n",
       "      <td>2018.</td>\n",
       "    </tr>\n",
       "    <tr>\n",
       "      <th>1688798</th>\n",
       "      <td>Physical</td>\n",
       "      <td>Horizon</td>\n",
       "      <td>BOOK</td>\n",
       "      <td>8</td>\n",
       "      <td>636.0</td>\n",
       "      <td>The president is missing : a novel / Bill Clin...</td>\n",
       "      <td>Clinton, Bill, 1946-</td>\n",
       "      <td>Missing persons Fiction, Presidents United Sta...</td>\n",
       "      <td>Little Brown &amp; Company : Alfred A. Knopf,</td>\n",
       "      <td>[2018]</td>\n",
       "    </tr>\n",
       "    <tr>\n",
       "      <th>39490</th>\n",
       "      <td>Physical</td>\n",
       "      <td>Horizon</td>\n",
       "      <td>BOOK</td>\n",
       "      <td>1</td>\n",
       "      <td>627.0</td>\n",
       "      <td>The Rooster Bar / John Grisham.</td>\n",
       "      <td>Grisham, John</td>\n",
       "      <td>Student loans Fiction, Law schools Corrupt pra...</td>\n",
       "      <td>Doubleday,</td>\n",
       "      <td>[2017]</td>\n",
       "    </tr>\n",
       "    <tr>\n",
       "      <th>2142858</th>\n",
       "      <td>Physical</td>\n",
       "      <td>Horizon</td>\n",
       "      <td>BOOK</td>\n",
       "      <td>10</td>\n",
       "      <td>627.0</td>\n",
       "      <td>The witch elm / Tana French.</td>\n",
       "      <td>French, Tana</td>\n",
       "      <td>Victims of crimes Fiction, Death Fiction, Fami...</td>\n",
       "      <td>Viking,</td>\n",
       "      <td>[2018]</td>\n",
       "    </tr>\n",
       "    <tr>\n",
       "      <th>195620</th>\n",
       "      <td>Physical</td>\n",
       "      <td>Horizon</td>\n",
       "      <td>BOOK</td>\n",
       "      <td>1</td>\n",
       "      <td>616.0</td>\n",
       "      <td>Fire and fury : inside the Trump White House /...</td>\n",
       "      <td>Wolff, Michael, 1953-</td>\n",
       "      <td>Trump Donald 1946, Bannon Stephen K, President...</td>\n",
       "      <td>Henry Holt and Company,</td>\n",
       "      <td>2018.</td>\n",
       "    </tr>\n",
       "    <tr>\n",
       "      <th>238276</th>\n",
       "      <td>Physical</td>\n",
       "      <td>Horizon</td>\n",
       "      <td>BOOK</td>\n",
       "      <td>1</td>\n",
       "      <td>613.0</td>\n",
       "      <td>Smitten kitchen every day : triumphant and unf...</td>\n",
       "      <td>Perelman, Deb</td>\n",
       "      <td>Cooking, Cookbooks</td>\n",
       "      <td>Alfred A. Knopf,</td>\n",
       "      <td>[2017]</td>\n",
       "    </tr>\n",
       "    <tr>\n",
       "      <th>675565</th>\n",
       "      <td>Physical</td>\n",
       "      <td>Horizon</td>\n",
       "      <td>BOOK</td>\n",
       "      <td>3</td>\n",
       "      <td>608.0</td>\n",
       "      <td>The great alone / Kristin Hannah.</td>\n",
       "      <td>Hannah, Kristin</td>\n",
       "      <td>Moving Household Fiction, Families Fiction, Ab...</td>\n",
       "      <td>St. Martin's Press,</td>\n",
       "      <td>2018.</td>\n",
       "    </tr>\n",
       "    <tr>\n",
       "      <th>2395806</th>\n",
       "      <td>Physical</td>\n",
       "      <td>Horizon</td>\n",
       "      <td>BOOK</td>\n",
       "      <td>11</td>\n",
       "      <td>608.0</td>\n",
       "      <td>Transcription / Kate Atkinson.</td>\n",
       "      <td>Atkinson, Kate</td>\n",
       "      <td>Great Britain MI5 Officials and employees Fict...</td>\n",
       "      <td>Little, Brown and Company, a division of Hache...</td>\n",
       "      <td>[2018]</td>\n",
       "    </tr>\n",
       "    <tr>\n",
       "      <th>24689</th>\n",
       "      <td>Physical</td>\n",
       "      <td>Horizon</td>\n",
       "      <td>BOOK</td>\n",
       "      <td>1</td>\n",
       "      <td>601.0</td>\n",
       "      <td>The ninth hour / Alice McDermott.</td>\n",
       "      <td>McDermott, Alice</td>\n",
       "      <td>Widows New York State New York Fiction, Nuns N...</td>\n",
       "      <td>Farrar, Straus and Giroux,</td>\n",
       "      <td>2017.</td>\n",
       "    </tr>\n",
       "  </tbody>\n",
       "</table>\n",
       "</div>"
      ],
      "text/plain": [
       "        UsageClass CheckoutType MaterialType  CheckoutMonth  Checkouts  \\\n",
       "2233873   Physical      Horizon         BOOK             10      847.0   \n",
       "519771    Physical      Horizon         BOOK              3      766.0   \n",
       "2538342   Physical      Horizon         BOOK             12      735.0   \n",
       "2436853    Digital    OverDrive    AUDIOBOOK             11      716.0   \n",
       "2344666   Physical      Horizon         BOOK             11      691.0   \n",
       "2428767   Physical      Horizon         BOOK             11      687.0   \n",
       "415846    Physical      Horizon         BOOK              2      684.0   \n",
       "1074632   Physical      Horizon         BOOK              5      671.0   \n",
       "754838    Physical      Horizon         BOOK              4      669.0   \n",
       "207030    Physical      Horizon         BOOK              1      668.0   \n",
       "17076     Physical      Horizon         BOOK              1      667.0   \n",
       "2529215   Physical      Horizon         BOOK             12      660.0   \n",
       "2203983   Physical      Horizon         BOOK             10      658.0   \n",
       "48171     Physical      Horizon     REGPRINT              1      654.0   \n",
       "2326239   Physical      Horizon         BOOK             11      640.0   \n",
       "2591467   Physical      Horizon         BOOK             12      637.0   \n",
       "1317138   Physical      Horizon         BOOK              6      637.0   \n",
       "1688798   Physical      Horizon         BOOK              8      636.0   \n",
       "39490     Physical      Horizon         BOOK              1      627.0   \n",
       "2142858   Physical      Horizon         BOOK             10      627.0   \n",
       "195620    Physical      Horizon         BOOK              1      616.0   \n",
       "238276    Physical      Horizon         BOOK              1      613.0   \n",
       "675565    Physical      Horizon         BOOK              3      608.0   \n",
       "2395806   Physical      Horizon         BOOK             11      608.0   \n",
       "24689     Physical      Horizon         BOOK              1      601.0   \n",
       "\n",
       "                                                     Title  \\\n",
       "2233873    Fear : Trump in the White House / Bob Woodward.   \n",
       "519771   Fire and fury : inside the Trump White House /...   \n",
       "2538342                         Becoming / Michelle Obama.   \n",
       "2436853                        The Red Pencil (Unabridged)   \n",
       "2344666    Fear : Trump in the White House / Bob Woodward.   \n",
       "2428767              Dark sacred night / Michael Connelly.   \n",
       "415846   Fire and fury : inside the Trump White House /...   \n",
       "1074632  A higher loyalty : truth, lies, and leadership...   \n",
       "754838   Fire and fury : inside the Trump White House /...   \n",
       "207030          Manhattan Beach : a novel / Jennifer Egan.   \n",
       "17076                       Artemis : a novel / Andy Weir.   \n",
       "2529215    Fear : Trump in the White House / Bob Woodward.   \n",
       "2203983                     Transcription / Kate Atkinson.   \n",
       "48171               Turtles all the way down / John Green.   \n",
       "2326239                            Past tense / Lee Child.   \n",
       "2591467               Kingdom of the blind / Louise Penny.   \n",
       "1317138  A higher loyalty : truth, lies, and leadership...   \n",
       "1688798  The president is missing : a novel / Bill Clin...   \n",
       "39490                      The Rooster Bar / John Grisham.   \n",
       "2142858                       The witch elm / Tana French.   \n",
       "195620   Fire and fury : inside the Trump White House /...   \n",
       "238276   Smitten kitchen every day : triumphant and unf...   \n",
       "675565                   The great alone / Kristin Hannah.   \n",
       "2395806                     Transcription / Kate Atkinson.   \n",
       "24689                    The ninth hour / Alice McDermott.   \n",
       "\n",
       "                             Creator  \\\n",
       "2233873         Woodward, Bob, 1943-   \n",
       "519771         Wolff, Michael, 1953-   \n",
       "2538342       Obama, Michelle, 1964-   \n",
       "2436853         Andrea Davis Pinkney   \n",
       "2344666         Woodward, Bob, 1943-   \n",
       "2428767     Connelly, Michael, 1956-   \n",
       "415846         Wolff, Michael, 1953-   \n",
       "1074632  Comey, James B., Jr., 1960-   \n",
       "754838         Wolff, Michael, 1953-   \n",
       "207030                Egan, Jennifer   \n",
       "17076                     Weir, Andy   \n",
       "2529215         Woodward, Bob, 1943-   \n",
       "2203983               Atkinson, Kate   \n",
       "48171             Green, John, 1977-   \n",
       "2326239                   Child, Lee   \n",
       "2591467                Penny, Louise   \n",
       "1317138  Comey, James B., Jr., 1960-   \n",
       "1688798         Clinton, Bill, 1946-   \n",
       "39490                  Grisham, John   \n",
       "2142858                 French, Tana   \n",
       "195620         Wolff, Michael, 1953-   \n",
       "238276                 Perelman, Deb   \n",
       "675565               Hannah, Kristin   \n",
       "2395806               Atkinson, Kate   \n",
       "24689               McDermott, Alice   \n",
       "\n",
       "                                                  Subjects  \\\n",
       "2233873  Trump Donald 1946, United States Politics and ...   \n",
       "519771   Trump Donald 1946, Bannon Stephen K, President...   \n",
       "2538342  Obama Michelle 1964, Presidents spouses United...   \n",
       "2436853              Juvenile Fiction, Juvenile Literature   \n",
       "2344666  Trump Donald 1946, United States Politics and ...   \n",
       "2428767  Bosch Harry Fiction, Policewomen Fiction, Cold...   \n",
       "415846   Trump Donald 1946, Bannon Stephen K, President...   \n",
       "1074632  Comey James B Jr 1960, United States Federal B...   \n",
       "754838   Trump Donald 1946, Bannon Stephen K, President...   \n",
       "207030   Young women New York State New York Fiction, W...   \n",
       "17076    Moon Fiction, Smuggling Fiction, Conspiracies ...   \n",
       "2529215  Trump Donald 1946, United States Politics and ...   \n",
       "2203983  Great Britain MI5 Officials and employees Fict...   \n",
       "48171    Teenage girls Juvenile fiction, Obsessive comp...   \n",
       "2326239  Reacher Jack Fictitious character Fiction, Voy...   \n",
       "2591467  Gamache Armand Fictitious character Fiction, E...   \n",
       "1317138  Comey James B Jr 1960, United States Federal B...   \n",
       "1688798  Missing persons Fiction, Presidents United Sta...   \n",
       "39490    Student loans Fiction, Law schools Corrupt pra...   \n",
       "2142858  Victims of crimes Fiction, Death Fiction, Fami...   \n",
       "195620   Trump Donald 1946, Bannon Stephen K, President...   \n",
       "238276                                  Cooking, Cookbooks   \n",
       "675565   Moving Household Fiction, Families Fiction, Ab...   \n",
       "2395806  Great Britain MI5 Officials and employees Fict...   \n",
       "24689    Widows New York State New York Fiction, Nuns N...   \n",
       "\n",
       "                                                 Publisher PublicationYear  \n",
       "2233873                                  Simon & Schuster,           2018.  \n",
       "519771                             Henry Holt and Company,           2018.  \n",
       "2538342                                             Crown,          [2018]  \n",
       "2436853                                     Hachette Audio            2014  \n",
       "2344666                                  Simon & Schuster,           2018.  \n",
       "2428767                         Little, Brown and Company,           2018.  \n",
       "415846                             Henry Holt and Company,           2018.  \n",
       "1074632                                    Flatiron Books,           2018.  \n",
       "754838                             Henry Holt and Company,           2018.  \n",
       "207030                                           Scribner,           2017.  \n",
       "17076                                               Crown,          [2017]  \n",
       "2529215                                  Simon & Schuster,           2018.  \n",
       "2203983  Little, Brown and Company, a division of Hache...          [2018]  \n",
       "48171                                        Dutton Books,          [2017]  \n",
       "2326239                                   Delacorte Press,           2018.  \n",
       "2591467                                    Minotaur Books,           2018.  \n",
       "1317138                                    Flatiron Books,           2018.  \n",
       "1688798          Little Brown & Company : Alfred A. Knopf,          [2018]  \n",
       "39490                                           Doubleday,          [2017]  \n",
       "2142858                                            Viking,          [2018]  \n",
       "195620                             Henry Holt and Company,           2018.  \n",
       "238276                                    Alfred A. Knopf,          [2017]  \n",
       "675565                                 St. Martin's Press,           2018.  \n",
       "2395806  Little, Brown and Company, a division of Hache...          [2018]  \n",
       "24689                           Farrar, Straus and Giroux,           2017.  "
      ]
     },
     "execution_count": 8,
     "metadata": {},
     "output_type": "execute_result"
    }
   ],
   "source": [
    "# 25 most checkout titles by month\n",
    "\n",
    "#data['Checkouts'] = pd.to_numeric(data['Checkouts'], errors='coerce')\n",
    "sorted_checkouts = data.sort_values('Checkouts', ascending=False)\n",
    "sorted_checkouts.head(25)"
   ]
  },
  {
   "cell_type": "code",
   "execution_count": null,
   "metadata": {},
   "outputs": [],
   "source": []
  },
  {
   "cell_type": "code",
   "execution_count": null,
   "metadata": {},
   "outputs": [],
   "source": []
  },
  {
   "cell_type": "code",
   "execution_count": null,
   "metadata": {},
   "outputs": [],
   "source": []
  },
  {
   "cell_type": "code",
   "execution_count": null,
   "metadata": {},
   "outputs": [],
   "source": []
  },
  {
   "cell_type": "code",
   "execution_count": null,
   "metadata": {},
   "outputs": [],
   "source": []
  },
  {
   "cell_type": "code",
   "execution_count": null,
   "metadata": {},
   "outputs": [],
   "source": []
  },
  {
   "cell_type": "code",
   "execution_count": null,
   "metadata": {},
   "outputs": [],
   "source": []
  },
  {
   "cell_type": "code",
   "execution_count": null,
   "metadata": {},
   "outputs": [],
   "source": []
  }
 ],
 "metadata": {
  "kernelspec": {
   "display_name": "Python 3",
   "language": "python",
   "name": "python3"
  },
  "language_info": {
   "codemirror_mode": {
    "name": "ipython",
    "version": 3
   },
   "file_extension": ".py",
   "mimetype": "text/x-python",
   "name": "python",
   "nbconvert_exporter": "python",
   "pygments_lexer": "ipython3",
   "version": "3.7.2"
  }
 },
 "nbformat": 4,
 "nbformat_minor": 2
}
