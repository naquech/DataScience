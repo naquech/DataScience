{
 "cells": [
  {
   "cell_type": "markdown",
   "metadata": {},
   "source": [
    "# Keras - Lab\n",
    "\n",
    "## Introduction\n",
    "\n",
    "In this lab you'll once again build a neural network but this time with much less production time since we will be using Keras to do a lot of the heavy lifting building blocks which we coded from hand previously.  Our use case will be classifying Bank complaints.\n",
    "\n",
    "\n",
    "## Objectives\n",
    "\n",
    "You will be able to:\n",
    "* Build a neural network using Keras"
   ]
  },
  {
   "cell_type": "markdown",
   "metadata": {},
   "source": [
    "## Loading Required Packages\n",
    "\n",
    "Here we'll import all of the various packages that we'll use in this code along. We'll point out where these imports were used as they come up in the lab."
   ]
  },
  {
   "cell_type": "code",
   "execution_count": 1,
   "metadata": {},
   "outputs": [
    {
     "name": "stderr",
     "output_type": "stream",
     "text": [
      "Using TensorFlow backend.\n"
     ]
    }
   ],
   "source": [
    "import matplotlib.pyplot as plt\n",
    "import pandas as pd\n",
    "import numpy as np\n",
    "import random\n",
    "from sklearn.model_selection import train_test_split\n",
    "from keras.utils.np_utils import to_categorical\n",
    "from sklearn import preprocessing\n",
    "from keras.preprocessing.text import Tokenizer\n",
    "from keras import models\n",
    "from keras import layers\n",
    "from keras import optimizers"
   ]
  },
  {
   "cell_type": "markdown",
   "metadata": {},
   "source": [
    "## Loading the data\n",
    "\n",
    "As usual, we will start our data science process by importing the data itself.  \n",
    "Load and preview as a pandas dataframe.   \n",
    "The data is stored in a file **Bank_complaints.csv**."
   ]
  },
  {
   "cell_type": "code",
   "execution_count": 11,
   "metadata": {},
   "outputs": [
    {
     "data": {
      "text/html": [
       "<div>\n",
       "<style scoped>\n",
       "    .dataframe tbody tr th:only-of-type {\n",
       "        vertical-align: middle;\n",
       "    }\n",
       "\n",
       "    .dataframe tbody tr th {\n",
       "        vertical-align: top;\n",
       "    }\n",
       "\n",
       "    .dataframe thead th {\n",
       "        text-align: right;\n",
       "    }\n",
       "</style>\n",
       "<table border=\"1\" class=\"dataframe\">\n",
       "  <thead>\n",
       "    <tr style=\"text-align: right;\">\n",
       "      <th></th>\n",
       "      <th>Product</th>\n",
       "      <th>Consumer complaint narrative</th>\n",
       "    </tr>\n",
       "  </thead>\n",
       "  <tbody>\n",
       "    <tr>\n",
       "      <th>0</th>\n",
       "      <td>Student loan</td>\n",
       "      <td>In XX/XX/XXXX I filled out the Fedlaon applica...</td>\n",
       "    </tr>\n",
       "    <tr>\n",
       "      <th>1</th>\n",
       "      <td>Student loan</td>\n",
       "      <td>I am being contacted by a debt collector for p...</td>\n",
       "    </tr>\n",
       "    <tr>\n",
       "      <th>2</th>\n",
       "      <td>Student loan</td>\n",
       "      <td>I cosigned XXXX student loans at SallieMae for...</td>\n",
       "    </tr>\n",
       "    <tr>\n",
       "      <th>3</th>\n",
       "      <td>Student loan</td>\n",
       "      <td>Navient has sytematically and illegally failed...</td>\n",
       "    </tr>\n",
       "    <tr>\n",
       "      <th>4</th>\n",
       "      <td>Student loan</td>\n",
       "      <td>My wife became eligible for XXXX Loan Forgiven...</td>\n",
       "    </tr>\n",
       "  </tbody>\n",
       "</table>\n",
       "</div>"
      ],
      "text/plain": [
       "        Product                       Consumer complaint narrative\n",
       "0  Student loan  In XX/XX/XXXX I filled out the Fedlaon applica...\n",
       "1  Student loan  I am being contacted by a debt collector for p...\n",
       "2  Student loan  I cosigned XXXX student loans at SallieMae for...\n",
       "3  Student loan  Navient has sytematically and illegally failed...\n",
       "4  Student loan  My wife became eligible for XXXX Loan Forgiven..."
      ]
     },
     "execution_count": 11,
     "metadata": {},
     "output_type": "execute_result"
    }
   ],
   "source": [
    "df = pd.read_csv('Bank_complaints.csv')\n",
    "df.head()"
   ]
  },
  {
   "cell_type": "code",
   "execution_count": 12,
   "metadata": {},
   "outputs": [
    {
     "name": "stdout",
     "output_type": "stream",
     "text": [
      "<class 'pandas.core.frame.DataFrame'>\n",
      "RangeIndex: 60000 entries, 0 to 59999\n",
      "Data columns (total 2 columns):\n",
      "Product                         60000 non-null object\n",
      "Consumer complaint narrative    60000 non-null object\n",
      "dtypes: object(2)\n",
      "memory usage: 937.6+ KB\n"
     ]
    }
   ],
   "source": [
    "df.info()"
   ]
  },
  {
   "cell_type": "markdown",
   "metadata": {},
   "source": [
    "## Further Preview of the Categories\n",
    "\n",
    "As we said, our task here is to categorize banking complaints into various predefined categories. Preview what these categories are and what percent of the complaints each accounts for."
   ]
  },
  {
   "cell_type": "code",
   "execution_count": 13,
   "metadata": {},
   "outputs": [
    {
     "data": {
      "text/plain": [
       "Student loan                   11404\n",
       "Credit card                     9540\n",
       "Consumer Loan                   9474\n",
       "Mortgage                        8332\n",
       "Bank account or service         8309\n",
       "Credit reporting                6864\n",
       "Checking or savings account     6077\n",
       "Name: Product, dtype: int64"
      ]
     },
     "execution_count": 13,
     "metadata": {},
     "output_type": "execute_result"
    }
   ],
   "source": [
    "df['Product'].value_counts()"
   ]
  },
  {
   "cell_type": "markdown",
   "metadata": {},
   "source": [
    "## Preprocessing\n",
    "\n",
    "Before we build our neural network, we need to do several preprocessing steps. First, we will create word vector counts (a bag of words type representation) of our complaints text. Next, we will change the category labels to integers. Finally, we will perform our usual train-test split before building and training our neural network using Keras. With that, let's start munging our data!"
   ]
  },
  {
   "cell_type": "markdown",
   "metadata": {},
   "source": [
    "## One-hot encoding of the complaints\n",
    "\n",
    "Our first step again is to transform our textual data into a numerical representation. As we've started to see in some of our previous lessons on NLP, there are many ways to do this. Here, we'll use the `Tokenizer` method from the `preprocessing` module of the Keras package.   \n",
    "\n",
    "As with our previous work using NLTK, this will transform our text complaints into word vectors. (Note that the method of creating a vector is different from our previous work with NLTK; as you'll see, word order will be preserved as oppossed to a bag of words representation. In the below code, we'll only keep the 2,000 most common words and use one-hot encoding.\n",
    "\n",
    "Note that the code block below takes advantage of the following package import from our first code cell above.  \n",
    "`from keras.preprocessing.text import Tokenizer`"
   ]
  },
  {
   "cell_type": "code",
   "execution_count": 9,
   "metadata": {},
   "outputs": [],
   "source": [
    "#As a quick preliminary, briefly review the docstring for the Keras.preprocessing.text.Tokenizer method:\n",
    "Tokenizer?"
   ]
  },
  {
   "cell_type": "code",
   "execution_count": 14,
   "metadata": {},
   "outputs": [
    {
     "name": "stdout",
     "output_type": "stream",
     "text": [
      "sequences type: <class 'list'>\n",
      "one_hot_results type: <class 'numpy.ndarray'>\n",
      "Found 50110 unique tokens.\n",
      "Dimensions of our coded results: (60000, 2000)\n"
     ]
    }
   ],
   "source": [
    "#Now onto the actual code recipe...\n",
    "complaints = df[\"Consumer complaint narrative\"] #Our raw text complaints\n",
    "\n",
    "tokenizer = Tokenizer(num_words=2000) #Initialize a tokenizer.\n",
    "\n",
    "tokenizer.fit_on_texts(complaints) #Fit it to the complaints\n",
    "\n",
    "sequences = tokenizer.texts_to_sequences(complaints) #Generate sequences\n",
    "print('sequences type:', type(sequences))\n",
    "\n",
    "one_hot_results= tokenizer.texts_to_matrix(complaints, mode='binary') #Similar to sequences, but returns a numpy array\n",
    "print('one_hot_results type:', type(one_hot_results))\n",
    "\n",
    "word_index = tokenizer.word_index #Useful if we wish to decode (more explanation below)\n",
    "\n",
    "print('Found %s unique tokens.' % len(word_index)) #Tokens are the number of unique words across the corpus\n",
    "\n",
    "\n",
    "print('Dimensions of our coded results:', np.shape(one_hot_results)) #Our coded data"
   ]
  },
  {
   "cell_type": "code",
   "execution_count": 28,
   "metadata": {},
   "outputs": [],
   "source": [
    "#word_index   #'xxxx': 1, 'the': 2, 'i': 3, ..."
   ]
  },
  {
   "cell_type": "code",
   "execution_count": 34,
   "metadata": {},
   "outputs": [],
   "source": [
    "#sequences[10]   #1305->national, 5->and,  755->trust, ..."
   ]
  },
  {
   "cell_type": "markdown",
   "metadata": {},
   "source": [
    "## Decoding our Word Vectors\n",
    "As a note, you can also decode these vectorized representations of the reviews. The `word_index` variable, defined above, stores the mapping from the label number to the actual word. Somewhat tediously, we can turn this dictionary inside out and map it back to our word vectors, giving us roughly the original complaint back. (As you'll see, the text won't be identical as we limited ourselves to 2000 words.)"
   ]
  },
  {
   "cell_type": "markdown",
   "metadata": {},
   "source": [
    "## Python Review / Mini Challenge\n",
    "\n",
    "While a bit tangential to our main topic of interest, we need to reverse our current dictionary `word_index` which maps words from our corpus to integers. In decoding our one_hot_results, we will need to create a dictionary of these integers to the original words. Below, take the `word_index` dictionary object and change the orientation so that the values are keys and the keys values. In other words, you are transforming something of the form {A:1, B:2, C:3} to {1:A, 2:B, 3:C}"
   ]
  },
  {
   "cell_type": "code",
   "execution_count": 25,
   "metadata": {},
   "outputs": [],
   "source": [
    "reverse_index = dict([(value, key) for(key, value) in word_index.items()])"
   ]
  },
  {
   "cell_type": "code",
   "execution_count": 29,
   "metadata": {},
   "outputs": [],
   "source": [
    "#reverse_index #1: 'xxxx', 2: 'the', 3: 'i',..."
   ]
  },
  {
   "cell_type": "markdown",
   "metadata": {},
   "source": [
    "## Back to Decoding Our Word Vectors..."
   ]
  },
  {
   "cell_type": "code",
   "execution_count": 30,
   "metadata": {},
   "outputs": [
    {
     "name": "stdout",
     "output_type": "stream",
     "text": [
      "Original complaint text:\n",
      "National Collegiate and trust has been on my Credit report for years now, and I have disputed them several times. They sent me and my mom letters in the mail stating we must pay right away. We sent letters for each one asking to prove this debt, and show us promissary notes. They have not shown/ mailed/ emailed/ called about this. They are still reporting on my credit. Now it 's saying the company is XXXX XXXX XXXX. It says the open date is on XXXX 2010 I do not remember ever taking this loan out.\n",
      "\n",
      "\n",
      "\n",
      "Decoded review from Tokenizer:\n",
      "national and trust has been on my credit report for years now and i have disputed them several times they sent me and my mom letters in the mail stating we must pay right away we sent letters for each one asking to prove this debt and show us notes they have not shown mailed emailed called about this they are still reporting on my credit now it 's saying the company is xxxx xxxx xxxx it says the open date is on xxxx i do not remember ever taking this loan out\n"
     ]
    }
   ],
   "source": [
    "comment_idx_to_preview = 10      #position\n",
    "print('Original complaint text:')\n",
    "print(complaints[comment_idx_to_preview])\n",
    "print('\\n\\n')\n",
    "\n",
    "#The reverse_index cell block above must be complete in order for this cell block to successively execute.\n",
    "decoded_review = ' '.join([reverse_index.get(i) for i in sequences[comment_idx_to_preview]])\n",
    "print('Decoded review from Tokenizer:')\n",
    "print(decoded_review)"
   ]
  },
  {
   "cell_type": "markdown",
   "metadata": {},
   "source": [
    "## Convert the Products to Numerical Categories\n",
    "\n",
    "On to step two of our preprocessing: converting our descriptive categories into integers."
   ]
  },
  {
   "cell_type": "code",
   "execution_count": 35,
   "metadata": {},
   "outputs": [
    {
     "name": "stdout",
     "output_type": "stream",
     "text": [
      "Original class labels:\n",
      "['Bank account or service', 'Checking or savings account', 'Consumer Loan', 'Credit card', 'Credit reporting', 'Mortgage', 'Student loan']\n",
      "\n",
      "\n",
      "New product labels:\n",
      "[6 6 6 ... 4 4 4]\n",
      "\n",
      "\n",
      "One hot labels; 7 binary columns, one for each of the categories.\n",
      "[[0. 0. 0. ... 0. 0. 1.]\n",
      " [0. 0. 0. ... 0. 0. 1.]\n",
      " [0. 0. 0. ... 0. 0. 1.]\n",
      " ...\n",
      " [0. 0. 0. ... 1. 0. 0.]\n",
      " [0. 0. 0. ... 1. 0. 0.]\n",
      " [0. 0. 0. ... 1. 0. 0.]]\n",
      "\n",
      "\n",
      "One hot labels shape:\n",
      "(60000, 7)\n"
     ]
    }
   ],
   "source": [
    "product = df[\"Product\"]\n",
    "\n",
    "le = preprocessing.LabelEncoder() #Initialize. le used as abbreviation fo label encoder\n",
    "le.fit(product)\n",
    "print(\"Original class labels:\")\n",
    "print(list(le.classes_))\n",
    "print('\\n')\n",
    "product_cat = le.transform(product)  \n",
    "#list(le.inverse_transform([0, 1, 3, 3, 0, 6, 4])) #If you wish to retrieve the original descriptive labels post production\n",
    "\n",
    "print('New product labels:')\n",
    "print(product_cat)\n",
    "print('\\n')\n",
    "\n",
    "print('One hot labels; 7 binary columns, one for each of the categories.') #Each row will be all zeros except for the category for that observation.\n",
    "product_onehot = to_categorical(product_cat)\n",
    "print(product_onehot)\n",
    "print('\\n')\n",
    "\n",
    "print('One hot labels shape:')\n",
    "print(np.shape(product_onehot))"
   ]
  },
  {
   "cell_type": "markdown",
   "metadata": {},
   "source": [
    "## Train - test split\n",
    "\n",
    "Now for our final preprocessing step: the usual train-test split."
   ]
  },
  {
   "cell_type": "code",
   "execution_count": 36,
   "metadata": {},
   "outputs": [
    {
     "name": "stdout",
     "output_type": "stream",
     "text": [
      "Test label shape: (1500, 7)\n",
      "Train label shape: (58500, 7)\n",
      "Test shape: (1500, 2000)\n",
      "Train shape: (58500, 2000)\n"
     ]
    }
   ],
   "source": [
    "import random\n",
    "random.seed(123)\n",
    "test_index = random.sample(range(1,10000), 1500)\n",
    "\n",
    "test = one_hot_results[test_index]\n",
    "train = np.delete(one_hot_results, test_index, 0)\n",
    "\n",
    "\n",
    "label_test = product_onehot[test_index]\n",
    "label_train = np.delete(product_onehot, test_index, 0)\n",
    "\n",
    "print(\"Test label shape:\", np.shape(label_test))\n",
    "print(\"Train label shape:\", np.shape(label_train))\n",
    "print(\"Test shape:\", np.shape(test))\n",
    "print(\"Train shape:\", np.shape(train))"
   ]
  },
  {
   "cell_type": "markdown",
   "metadata": {},
   "source": [
    "## Building the network"
   ]
  },
  {
   "cell_type": "markdown",
   "metadata": {},
   "source": [
    "Let's build a fully connected (Dense) layer network with relu activations in Keras. You can do this using: `Dense(16, activation='relu')`."
   ]
  },
  {
   "cell_type": "markdown",
   "metadata": {},
   "source": [
    "In this examples, use 2 hidden with 50 units in the first layer and 25 in the second, both with a `relu` activation function. Because we are dealing with a multiclass problem (classifying the complaints into 7 ), we use a use a softmax classifyer in order to output 7 class probabilities per case.  \n",
    "\n",
    "The previous imports that you'll use here are:  \n",
    "\n",
    "```from keras import models\n",
    "from keras import layers```"
   ]
  },
  {
   "cell_type": "code",
   "execution_count": 37,
   "metadata": {},
   "outputs": [],
   "source": [
    "#initialize a sequential model  \n",
    "\n",
    "model = models.Sequential()"
   ]
  },
  {
   "cell_type": "code",
   "execution_count": 38,
   "metadata": {},
   "outputs": [],
   "source": [
    "#add 3 layers; two hidden relu and the final classification output using softmax\n",
    "model.add(layers.Dense(units=50, activation='relu'))\n",
    "model.add(layers.Dense(units=25, activation='relu'))\n",
    "model.add(layers.Dense(units=7, activation='softmax'))"
   ]
  },
  {
   "cell_type": "markdown",
   "metadata": {},
   "source": [
    "## Compiling the model and look at the results\n",
    "\n",
    "Now, compile the model! This time, use `'categorical_crossentropy'` as the loss function and stochastic gradient descent, `'SGD'` as the optimizer. As in the previous lesson, include the accuracy as a metric."
   ]
  },
  {
   "cell_type": "code",
   "execution_count": 39,
   "metadata": {},
   "outputs": [],
   "source": [
    "model.compile(optimizer='SGD', loss='categorical_crossentropy', metrics=['accuracy'])"
   ]
  },
  {
   "cell_type": "markdown",
   "metadata": {},
   "source": [
    "## Training the model\n",
    "\n",
    "In the compiler, you'll be passing the optimizer (SGD = stochastic gradient descent), loss function, and metrics. Train the model for 120 epochs in mini-batches of 256 samples."
   ]
  },
  {
   "cell_type": "code",
   "execution_count": 40,
   "metadata": {},
   "outputs": [
    {
     "name": "stdout",
     "output_type": "stream",
     "text": [
      "Epoch 1/120\n",
      "58500/58500 [==============================] - 5s 83us/step - loss: 1.8754 - acc: 0.2636\n",
      "Epoch 2/120\n",
      "58500/58500 [==============================] - 3s 44us/step - loss: 1.5876 - acc: 0.5016\n",
      "Epoch 3/120\n",
      "58500/58500 [==============================] - 2s 35us/step - loss: 1.2027 - acc: 0.6421\n",
      "Epoch 4/120\n",
      "58500/58500 [==============================] - 2s 29us/step - loss: 0.9482 - acc: 0.6978\n",
      "Epoch 5/120\n",
      "58500/58500 [==============================] - 2s 30us/step - loss: 0.8127 - acc: 0.7240\n",
      "Epoch 6/120\n",
      "58500/58500 [==============================] - 2s 38us/step - loss: 0.7371 - acc: 0.7409\n",
      "Epoch 7/120\n",
      "58500/58500 [==============================] - 2s 30us/step - loss: 0.6898 - acc: 0.7530\n",
      "Epoch 8/120\n",
      "58500/58500 [==============================] - 2s 35us/step - loss: 0.6572 - acc: 0.7624\n",
      "Epoch 9/120\n",
      "58500/58500 [==============================] - 2s 34us/step - loss: 0.6331 - acc: 0.7696\n",
      "Epoch 10/120\n",
      "58500/58500 [==============================] - 2s 37us/step - loss: 0.6139 - acc: 0.7763\n",
      "Epoch 11/120\n",
      "58500/58500 [==============================] - 2s 30us/step - loss: 0.5980 - acc: 0.7818\n",
      "Epoch 12/120\n",
      "58500/58500 [==============================] - 2s 30us/step - loss: 0.5850 - acc: 0.7861\n",
      "Epoch 13/120\n",
      "58500/58500 [==============================] - 2s 30us/step - loss: 0.5732 - acc: 0.7912\n",
      "Epoch 14/120\n",
      "58500/58500 [==============================] - 2s 30us/step - loss: 0.5628 - acc: 0.7940\n",
      "Epoch 15/120\n",
      "58500/58500 [==============================] - 3s 45us/step - loss: 0.5538 - acc: 0.7994\n",
      "Epoch 16/120\n",
      "58500/58500 [==============================] - 2s 34us/step - loss: 0.5453 - acc: 0.8015\n",
      "Epoch 17/120\n",
      "58500/58500 [==============================] - 2s 30us/step - loss: 0.5374 - acc: 0.8041\n",
      "Epoch 18/120\n",
      "58500/58500 [==============================] - 2s 30us/step - loss: 0.5305 - acc: 0.8074\n",
      "Epoch 19/120\n",
      "58500/58500 [==============================] - 2s 30us/step - loss: 0.5238 - acc: 0.8098\n",
      "Epoch 20/120\n",
      "58500/58500 [==============================] - 2s 30us/step - loss: 0.5176 - acc: 0.8126\n",
      "Epoch 21/120\n",
      "58500/58500 [==============================] - 2s 31us/step - loss: 0.5118 - acc: 0.8144\n",
      "Epoch 22/120\n",
      "58500/58500 [==============================] - 2s 34us/step - loss: 0.5064 - acc: 0.8179\n",
      "Epoch 23/120\n",
      "58500/58500 [==============================] - 2s 32us/step - loss: 0.5009 - acc: 0.8189\n",
      "Epoch 24/120\n",
      "58500/58500 [==============================] - 2s 30us/step - loss: 0.4961 - acc: 0.8215\n",
      "Epoch 25/120\n",
      "58500/58500 [==============================] - 2s 30us/step - loss: 0.4917 - acc: 0.8235\n",
      "Epoch 26/120\n",
      "58500/58500 [==============================] - 2s 30us/step - loss: 0.4873 - acc: 0.8246\n",
      "Epoch 27/120\n",
      "58500/58500 [==============================] - 2s 30us/step - loss: 0.4828 - acc: 0.8271\n",
      "Epoch 28/120\n",
      "58500/58500 [==============================] - 2s 33us/step - loss: 0.4789 - acc: 0.8291\n",
      "Epoch 29/120\n",
      "58500/58500 [==============================] - 2s 31us/step - loss: 0.4749 - acc: 0.8302\n",
      "Epoch 30/120\n",
      "58500/58500 [==============================] - 2s 30us/step - loss: 0.4710 - acc: 0.8309\n",
      "Epoch 31/120\n",
      "58500/58500 [==============================] - 2s 40us/step - loss: 0.4676 - acc: 0.8330\n",
      "Epoch 32/120\n",
      "58500/58500 [==============================] - 2s 34us/step - loss: 0.4641 - acc: 0.8336\n",
      "Epoch 33/120\n",
      "58500/58500 [==============================] - 2s 31us/step - loss: 0.4607 - acc: 0.8353\n",
      "Epoch 34/120\n",
      "58500/58500 [==============================] - 2s 31us/step - loss: 0.4576 - acc: 0.8372\n",
      "Epoch 35/120\n",
      "58500/58500 [==============================] - 2s 30us/step - loss: 0.4545 - acc: 0.8384\n",
      "Epoch 36/120\n",
      "58500/58500 [==============================] - 2s 30us/step - loss: 0.4515 - acc: 0.8389\n",
      "Epoch 37/120\n",
      "58500/58500 [==============================] - 2s 30us/step - loss: 0.4488 - acc: 0.8404\n",
      "Epoch 38/120\n",
      "58500/58500 [==============================] - 2s 30us/step - loss: 0.4457 - acc: 0.8412\n",
      "Epoch 39/120\n",
      "58500/58500 [==============================] - 2s 30us/step - loss: 0.4431 - acc: 0.8421\n",
      "Epoch 40/120\n",
      "58500/58500 [==============================] - 2s 30us/step - loss: 0.4403 - acc: 0.8437\n",
      "Epoch 41/120\n",
      "58500/58500 [==============================] - 2s 30us/step - loss: 0.4381 - acc: 0.8431\n",
      "Epoch 42/120\n",
      "58500/58500 [==============================] - 2s 33us/step - loss: 0.4354 - acc: 0.8455\n",
      "Epoch 43/120\n",
      "58500/58500 [==============================] - 2s 30us/step - loss: 0.4332 - acc: 0.8465\n",
      "Epoch 44/120\n",
      "58500/58500 [==============================] - 2s 30us/step - loss: 0.4310 - acc: 0.8467\n",
      "Epoch 45/120\n",
      "58500/58500 [==============================] - 2s 30us/step - loss: 0.4288 - acc: 0.8474\n",
      "Epoch 46/120\n",
      "58500/58500 [==============================] - 2s 30us/step - loss: 0.4267 - acc: 0.8487\n",
      "Epoch 47/120\n",
      "58500/58500 [==============================] - 2s 29us/step - loss: 0.4242 - acc: 0.8491\n",
      "Epoch 48/120\n",
      "58500/58500 [==============================] - 2s 30us/step - loss: 0.4222 - acc: 0.8502\n",
      "Epoch 49/120\n",
      "58500/58500 [==============================] - 2s 30us/step - loss: 0.4201 - acc: 0.8508\n",
      "Epoch 50/120\n",
      "58500/58500 [==============================] - 2s 30us/step - loss: 0.4181 - acc: 0.8512\n",
      "Epoch 51/120\n",
      "58500/58500 [==============================] - 2s 31us/step - loss: 0.4164 - acc: 0.8515\n",
      "Epoch 52/120\n",
      "58500/58500 [==============================] - 2s 31us/step - loss: 0.4148 - acc: 0.8526\n",
      "Epoch 53/120\n",
      "58500/58500 [==============================] - 2s 30us/step - loss: 0.4126 - acc: 0.8529\n",
      "Epoch 54/120\n",
      "58500/58500 [==============================] - 2s 32us/step - loss: 0.4107 - acc: 0.8542: 1\n",
      "Epoch 55/120\n",
      "58500/58500 [==============================] - 2s 32us/step - loss: 0.4094 - acc: 0.8542\n",
      "Epoch 56/120\n",
      "58500/58500 [==============================] - 2s 38us/step - loss: 0.4076 - acc: 0.8544\n",
      "Epoch 57/120\n",
      "58500/58500 [==============================] - 2s 33us/step - loss: 0.4059 - acc: 0.8555\n",
      "Epoch 58/120\n",
      "58500/58500 [==============================] - 2s 35us/step - loss: 0.4042 - acc: 0.8555\n",
      "Epoch 59/120\n",
      "58500/58500 [==============================] - 2s 35us/step - loss: 0.4026 - acc: 0.8564\n",
      "Epoch 60/120\n",
      "58500/58500 [==============================] - 2s 31us/step - loss: 0.4012 - acc: 0.8567\n",
      "Epoch 61/120\n",
      "58500/58500 [==============================] - 2s 32us/step - loss: 0.3996 - acc: 0.8573\n",
      "Epoch 62/120\n",
      "58500/58500 [==============================] - 2s 32us/step - loss: 0.3982 - acc: 0.8586\n",
      "Epoch 63/120\n",
      "58500/58500 [==============================] - 2s 31us/step - loss: 0.3967 - acc: 0.8586\n",
      "Epoch 64/120\n",
      "58500/58500 [==============================] - 2s 31us/step - loss: 0.3952 - acc: 0.8598\n",
      "Epoch 65/120\n",
      "58500/58500 [==============================] - 2s 31us/step - loss: 0.3936 - acc: 0.8599\n",
      "Epoch 66/120\n",
      "58500/58500 [==============================] - 2s 31us/step - loss: 0.3922 - acc: 0.8600\n",
      "Epoch 67/120\n",
      "58500/58500 [==============================] - 2s 32us/step - loss: 0.3912 - acc: 0.8604\n",
      "Epoch 68/120\n",
      "58500/58500 [==============================] - 2s 30us/step - loss: 0.3896 - acc: 0.8616\n",
      "Epoch 69/120\n",
      "58500/58500 [==============================] - 2s 30us/step - loss: 0.3883 - acc: 0.8616\n",
      "Epoch 70/120\n",
      "58500/58500 [==============================] - 2s 29us/step - loss: 0.3874 - acc: 0.8619\n",
      "Epoch 71/120\n",
      "58500/58500 [==============================] - 2s 30us/step - loss: 0.3857 - acc: 0.8623\n",
      "Epoch 72/120\n",
      "58500/58500 [==============================] - 2s 30us/step - loss: 0.3848 - acc: 0.8630\n",
      "Epoch 73/120\n",
      "58500/58500 [==============================] - 2s 30us/step - loss: 0.3833 - acc: 0.8638\n",
      "Epoch 74/120\n",
      "58500/58500 [==============================] - 2s 30us/step - loss: 0.3825 - acc: 0.8633\n",
      "Epoch 75/120\n",
      "58500/58500 [==============================] - 2s 29us/step - loss: 0.3809 - acc: 0.8637\n",
      "Epoch 76/120\n",
      "58500/58500 [==============================] - 2s 30us/step - loss: 0.3800 - acc: 0.8638\n",
      "Epoch 77/120\n",
      "58500/58500 [==============================] - 2s 30us/step - loss: 0.3787 - acc: 0.8653\n",
      "Epoch 78/120\n",
      "58500/58500 [==============================] - 2s 29us/step - loss: 0.3778 - acc: 0.8647\n",
      "Epoch 79/120\n",
      "58500/58500 [==============================] - 2s 31us/step - loss: 0.3763 - acc: 0.8656\n",
      "Epoch 80/120\n",
      "58500/58500 [==============================] - 2s 30us/step - loss: 0.3754 - acc: 0.8663\n",
      "Epoch 81/120\n"
     ]
    },
    {
     "name": "stdout",
     "output_type": "stream",
     "text": [
      "58500/58500 [==============================] - 2s 29us/step - loss: 0.3746 - acc: 0.8662\n",
      "Epoch 82/120\n",
      "58500/58500 [==============================] - 2s 29us/step - loss: 0.3731 - acc: 0.8670\n",
      "Epoch 83/120\n",
      "58500/58500 [==============================] - 2s 29us/step - loss: 0.3723 - acc: 0.8674\n",
      "Epoch 84/120\n",
      "58500/58500 [==============================] - 2s 29us/step - loss: 0.3712 - acc: 0.8669\n",
      "Epoch 85/120\n",
      "58500/58500 [==============================] - 2s 29us/step - loss: 0.3702 - acc: 0.8678\n",
      "Epoch 86/120\n",
      "58500/58500 [==============================] - 2s 29us/step - loss: 0.3693 - acc: 0.8676\n",
      "Epoch 87/120\n",
      "58500/58500 [==============================] - 2s 29us/step - loss: 0.3680 - acc: 0.8688\n",
      "Epoch 88/120\n",
      "58500/58500 [==============================] - 2s 29us/step - loss: 0.3672 - acc: 0.8685: 1s - los\n",
      "Epoch 89/120\n",
      "58500/58500 [==============================] - 2s 29us/step - loss: 0.3661 - acc: 0.8698\n",
      "Epoch 90/120\n",
      "58500/58500 [==============================] - 2s 29us/step - loss: 0.3651 - acc: 0.8697\n",
      "Epoch 91/120\n",
      "58500/58500 [==============================] - 2s 29us/step - loss: 0.3642 - acc: 0.8697\n",
      "Epoch 92/120\n",
      "58500/58500 [==============================] - 2s 29us/step - loss: 0.3633 - acc: 0.8697\n",
      "Epoch 93/120\n",
      "58500/58500 [==============================] - 2s 30us/step - loss: 0.3624 - acc: 0.8706\n",
      "Epoch 94/120\n",
      "58500/58500 [==============================] - 2s 29us/step - loss: 0.3613 - acc: 0.8708\n",
      "Epoch 95/120\n",
      "58500/58500 [==============================] - 2s 29us/step - loss: 0.3607 - acc: 0.8715\n",
      "Epoch 96/120\n",
      "58500/58500 [==============================] - 2s 30us/step - loss: 0.3595 - acc: 0.8722\n",
      "Epoch 97/120\n",
      "58500/58500 [==============================] - 2s 29us/step - loss: 0.3587 - acc: 0.8719\n",
      "Epoch 98/120\n",
      "58500/58500 [==============================] - 2s 29us/step - loss: 0.3577 - acc: 0.8723\n",
      "Epoch 99/120\n",
      "58500/58500 [==============================] - 2s 29us/step - loss: 0.3570 - acc: 0.8732\n",
      "Epoch 100/120\n",
      "58500/58500 [==============================] - 2s 29us/step - loss: 0.3559 - acc: 0.8735\n",
      "Epoch 101/120\n",
      "58500/58500 [==============================] - 2s 33us/step - loss: 0.3554 - acc: 0.8733\n",
      "Epoch 102/120\n",
      "58500/58500 [==============================] - 2s 34us/step - loss: 0.3542 - acc: 0.8742\n",
      "Epoch 103/120\n",
      "58500/58500 [==============================] - 2s 31us/step - loss: 0.3531 - acc: 0.8741\n",
      "Epoch 104/120\n",
      "58500/58500 [==============================] - 2s 32us/step - loss: 0.3523 - acc: 0.8742\n",
      "Epoch 105/120\n",
      "58500/58500 [==============================] - 2s 30us/step - loss: 0.3516 - acc: 0.8745\n",
      "Epoch 106/120\n",
      "58500/58500 [==============================] - 2s 31us/step - loss: 0.3508 - acc: 0.8749\n",
      "Epoch 107/120\n",
      "58500/58500 [==============================] - 2s 31us/step - loss: 0.3499 - acc: 0.8751\n",
      "Epoch 108/120\n",
      "58500/58500 [==============================] - 2s 30us/step - loss: 0.3488 - acc: 0.8761\n",
      "Epoch 109/120\n",
      "58500/58500 [==============================] - 2s 31us/step - loss: 0.3481 - acc: 0.8768\n",
      "Epoch 110/120\n",
      "58500/58500 [==============================] - 2s 32us/step - loss: 0.3472 - acc: 0.8772\n",
      "Epoch 111/120\n",
      "58500/58500 [==============================] - 2s 30us/step - loss: 0.3463 - acc: 0.8768\n",
      "Epoch 112/120\n",
      "58500/58500 [==============================] - 2s 30us/step - loss: 0.3457 - acc: 0.8769\n",
      "Epoch 113/120\n",
      "58500/58500 [==============================] - 2s 30us/step - loss: 0.3448 - acc: 0.8770\n",
      "Epoch 114/120\n",
      "58500/58500 [==============================] - 2s 31us/step - loss: 0.3438 - acc: 0.8779\n",
      "Epoch 115/120\n",
      "58500/58500 [==============================] - 2s 31us/step - loss: 0.3428 - acc: 0.8781\n",
      "Epoch 116/120\n",
      "58500/58500 [==============================] - 2s 38us/step - loss: 0.3421 - acc: 0.8789\n",
      "Epoch 117/120\n",
      "58500/58500 [==============================] - 3s 47us/step - loss: 0.3414 - acc: 0.8787\n",
      "Epoch 118/120\n",
      "58500/58500 [==============================] - 2s 38us/step - loss: 0.3402 - acc: 0.8789\n",
      "Epoch 119/120\n",
      "58500/58500 [==============================] - 2s 40us/step - loss: 0.3396 - acc: 0.8796\n",
      "Epoch 120/120\n",
      "58500/58500 [==============================] - 2s 36us/step - loss: 0.3389 - acc: 0.8790\n"
     ]
    }
   ],
   "source": [
    "history = model.fit(x=train, y=label_train, batch_size=256, epochs=120)"
   ]
  },
  {
   "cell_type": "markdown",
   "metadata": {},
   "source": [
    "Recall that the dictionary `history` has two entries: the loss and the accuracy achieved using the training set."
   ]
  },
  {
   "cell_type": "code",
   "execution_count": 41,
   "metadata": {},
   "outputs": [
    {
     "data": {
      "text/plain": [
       "dict_keys(['loss', 'acc'])"
      ]
     },
     "execution_count": 41,
     "metadata": {},
     "output_type": "execute_result"
    }
   ],
   "source": [
    "history_dict = history.history\n",
    "history_dict.keys()"
   ]
  },
  {
   "cell_type": "markdown",
   "metadata": {},
   "source": [
    "## Plot the results\n",
    "\n",
    "As you might expect, we'll use our ```import matplotlib.pyplot as plt``` for graphing. Use the data stored in the history_dict above to plot the loss vs epochs and the accurcay vs epochs."
   ]
  },
  {
   "cell_type": "code",
   "execution_count": 45,
   "metadata": {},
   "outputs": [
    {
     "data": {
      "text/plain": [
       "Text(0, 0.5, 'Loss')"
      ]
     },
     "execution_count": 45,
     "metadata": {},
     "output_type": "execute_result"
    },
    {
     "data": {
      "image/png": "[encoded data removed]",
      "text/plain": [
       "<Figure size 432x288 with 1 Axes>"
      ]
     },
     "metadata": {
      "needs_background": "light"
     },
     "output_type": "display_data"
    }
   ],
   "source": [
    "#plot the loss vs the number of epochs\n",
    "loss = history_dict['loss']\n",
    "epochs = range(1, len(loss)+1)\n",
    "plt.plot(epochs, loss)\n",
    "\n",
    "plt.title('Training loss')\n",
    "plt.xlabel('Epochs')\n",
    "plt.ylabel('Loss')"
   ]
  },
  {
   "cell_type": "code",
   "execution_count": 46,
   "metadata": {},
   "outputs": [
    {
     "data": {
      "text/plain": [
       "Text(0, 0.5, 'Accuracy')"
      ]
     },
     "execution_count": 46,
     "metadata": {},
     "output_type": "execute_result"
    },
    {
     "data": {
      "image/png": "[encoded data removed]",
      "text/plain": [
       "<Figure size 432x288 with 1 Axes>"
      ]
     },
     "metadata": {
      "needs_background": "light"
     },
     "output_type": "display_data"
    }
   ],
   "source": [
    "#plot the training accuracy vs the number of epochs\n",
    "acc = history_dict['acc']\n",
    "epochs = range(1, len(acc)+1)\n",
    "plt.plot(epochs, acc)\n",
    "\n",
    "plt.title('Training Accuracy')\n",
    "plt.xlabel('Epochs')\n",
    "plt.ylabel('Accuracy')"
   ]
  },
  {
   "cell_type": "markdown",
   "metadata": {},
   "source": [
    "It seems like we could just keep on going and accuracy would go up!"
   ]
  },
  {
   "cell_type": "markdown",
   "metadata": {},
   "source": [
    "## Make predictions\n",
    "\n",
    "Finally, it's time to output. Use the method discussed in the previous lesson to output (probability) predictions for the test set."
   ]
  },
  {
   "cell_type": "code",
   "execution_count": 47,
   "metadata": {},
   "outputs": [],
   "source": [
    "y_hat_test = model.predict(test)       #Output (probability) predictions for the test set."
   ]
  },
  {
   "cell_type": "code",
   "execution_count": 48,
   "metadata": {},
   "outputs": [
    {
     "data": {
      "text/plain": [
       "array([[4.4244185e-11, 1.4815755e-12, 1.0920959e-11, ..., 2.5538625e-11,\n",
       "        3.6890727e-13, 1.0000000e+00],\n",
       "       [7.0574452e-10, 9.5579933e-11, 9.0971591e-11, ..., 8.9066844e-11,\n",
       "        2.5116493e-09, 1.0000000e+00],\n",
       "       [7.9044615e-10, 1.2893789e-10, 6.2931932e-10, ..., 8.6728458e-10,\n",
       "        2.4660888e-08, 1.0000000e+00],\n",
       "       ...,\n",
       "       [4.8964051e-07, 2.4742059e-07, 5.4406026e-09, ..., 1.9945455e-06,\n",
       "        1.0186044e-08, 9.9999726e-01],\n",
       "       [8.2665410e-06, 1.6546639e-07, 1.2559780e-05, ..., 1.8094285e-06,\n",
       "        1.6110997e-05, 9.9989831e-01],\n",
       "       [9.8034052e-09, 1.2633884e-08, 1.3860556e-08, ..., 1.2222167e-09,\n",
       "        1.3852642e-06, 9.9999857e-01]], dtype=float32)"
      ]
     },
     "execution_count": 48,
     "metadata": {},
     "output_type": "execute_result"
    }
   ],
   "source": [
    "y_hat_test"
   ]
  },
  {
   "cell_type": "markdown",
   "metadata": {},
   "source": [
    "## Evaluate Performance\n",
    "\n",
    "Finally, print the loss and accuracy for both the train and test sets of the final trained model."
   ]
  },
  {
   "cell_type": "code",
   "execution_count": 49,
   "metadata": {},
   "outputs": [
    {
     "name": "stdout",
     "output_type": "stream",
     "text": [
      "58500/58500 [==============================] - 3s 45us/step\n"
     ]
    },
    {
     "data": {
      "text/plain": [
       "[0.3334038343560747, 0.8828547008547009]"
      ]
     },
     "execution_count": 49,
     "metadata": {},
     "output_type": "execute_result"
    }
   ],
   "source": [
    "#print the loss and accuracy for the training set.\n",
    "final_train = model.evaluate(train, label_train)\n",
    "final_train"
   ]
  },
  {
   "cell_type": "code",
   "execution_count": 50,
   "metadata": {},
   "outputs": [
    {
     "name": "stdout",
     "output_type": "stream",
     "text": [
      "1500/1500 [==============================] - 0s 55us/step\n"
     ]
    },
    {
     "data": {
      "text/plain": [
       "[0.22549888853232067, 0.9346666665077209]"
      ]
     },
     "execution_count": 50,
     "metadata": {},
     "output_type": "execute_result"
    }
   ],
   "source": [
    "#print the loss and accuracy for the test set.\n",
    "final_test = model.evaluate(test, label_test)\n",
    "final_test"
   ]
  },
  {
   "cell_type": "markdown",
   "metadata": {},
   "source": [
    "We can see that the training set results are really good (a 89.4% classification accuracy!), but the test set results lag behind. In the next lab. We'll talk a little more about this in the next lecture, and will discuss how we can get better test set results as well!"
   ]
  },
  {
   "cell_type": "markdown",
   "metadata": {},
   "source": [
    "## Additional Resources"
   ]
  },
  {
   "cell_type": "markdown",
   "metadata": {},
   "source": [
    "https://github.com/susanli2016/Machine-Learning-with-Python/blob/master/Consumer_complaints.ipynb"
   ]
  },
  {
   "cell_type": "markdown",
   "metadata": {},
   "source": [
    "https://catalog.data.gov/dataset/consumer-complaint-database"
   ]
  },
  {
   "cell_type": "markdown",
   "metadata": {},
   "source": [
    "## Summary \n",
    "\n",
    "Congratulations! In this lab, you built a neural network with much less production time thanks to the tools provided by Keras! In upcoming lessons and labs we'll continue to investigate further ideas regarding how to tune and refine these models for increased accuracy and performance."
   ]
  }
 ],
 "metadata": {
  "kernelspec": {
   "display_name": "Python 3",
   "language": "python",
   "name": "python3"
  },
  "language_info": {
   "codemirror_mode": {
    "name": "ipython",
    "version": 3
   },
   "file_extension": ".py",
   "mimetype": "text/x-python",
   "name": "python",
   "nbconvert_exporter": "python",
   "pygments_lexer": "ipython3",
   "version": "3.6.6"
  }
 },
 "nbformat": 4,
 "nbformat_minor": 2
}
