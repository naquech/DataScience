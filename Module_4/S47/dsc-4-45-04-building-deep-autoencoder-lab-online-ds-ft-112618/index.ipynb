{
 "cells": [
  {
   "cell_type": "markdown",
   "metadata": {},
   "source": [
    "# Building a Deep Autoencoder - Lab\n",
    "\n",
    "## Introduction\n",
    "\n",
    "Deep auto encoders are characterized by having more than one layers in their encoder and decoder components. In this lab, we will mainly repeat the last experiment, but using a deep architecture instead of a simple feed forward styles networks for encoding and decoding the last lab. \n",
    "\n",
    "## Objectives\n",
    "\n",
    "You will be able to:\n",
    "- Build a deep autoencoder in Keras\n",
    "- Create the encoder and decoder functions as multiple fully connected layers \n",
    "- Train an autoencoder with selected loss function and optimizer"
   ]
  },
  {
   "cell_type": "markdown",
   "metadata": {},
   "source": [
    "## Deep Autoencoders\n",
    "\n",
    "The extension of the simple Autoencoder is the __Deep Autoencoder__. The first layer of the Deep Autoencoder is used for first-order features in the raw input. The second layer is used for second-order features corresponding to patterns in the appearance of first-order features. This is also knows as FoF in deep learning i.e. Features of Features. Deeper layers of the Deep Autoencoder tend to learn even higher-order features.\n",
    "\n",
    "A deep autoencoder is composed of two, symmetrical deep-belief networks\n",
    "\n",
    "> __DBN (Deep belief Network)__ is a class of deep neural network which comprises of multiple layer of graphical model having both directed and undirected edges. It is composed of multiple layers of hidden units, where each layers are connected with each others but units are not. [Visist here](https://codeburst.io/deep-learning-deep-belief-network-fundamentals-d0dcfd80d7d4) for details. \n",
    "\n",
    "\n",
    "\n",
    "First four or five shallow layers representing the encoding half of the net.\n",
    "The second set of four or five layers that make up the decoding half."
   ]
  },
  {
   "cell_type": "markdown",
   "metadata": {},
   "source": [
    "<img src=\"deep.png\" width=600>"
   ]
  },
  {
   "cell_type": "markdown",
   "metadata": {},
   "source": [
    "In our previous lab, we used single fully-connected layers for both the encoding and decoding models while building a simple AE. With deep AE, we can stack multiple fully-connected layers to make each of the encoder and decoder functions __deep__, turning our simple model into a deep architecture.\n",
    "\n",
    "In this lab, we'll do just that: we'll repeat the initial problem setup, importing the same dataset and performing the same preprocessing. From there, we'll once again build an autoencoder, but this time, we will stack multiple layers in order to improve our performance."
   ]
  },
  {
   "cell_type": "code",
   "execution_count": 1,
   "metadata": {},
   "outputs": [
    {
     "name": "stderr",
     "output_type": "stream",
     "text": [
      "Using TensorFlow backend.\n"
     ]
    }
   ],
   "source": [
    "import keras\n",
    "import numpy as np\n",
    "import matplotlib.pyplot as plt\n",
    "\n",
    "from keras.datasets import fashion_mnist\n",
    "from keras.models import Model, Sequential\n",
    "from keras.layers import Input, Dense"
   ]
  },
  {
   "cell_type": "markdown",
   "metadata": {},
   "source": [
    "## Import the code for reading + preprocessing  fashion-MNIST dataset "
   ]
  },
  {
   "cell_type": "code",
   "execution_count": 2,
   "metadata": {},
   "outputs": [],
   "source": [
    "# Load the fashion dataset\n",
    "(x_train, _),(x_test, _) = fashion_mnist.load_data()"
   ]
  },
  {
   "cell_type": "code",
   "execution_count": 3,
   "metadata": {},
   "outputs": [
    {
     "name": "stdout",
     "output_type": "stream",
     "text": [
      "(60000, 28, 28) (10000, 28, 28)\n"
     ]
    }
   ],
   "source": [
    "#Normalize the train and test sets to a range of 0 to 1\n",
    "max_value = float(x_train.max())\n",
    "x_train = x_train.astype('float32') / max_value\n",
    "x_test = x_test.astype('float32') / max_value\n",
    "\n",
    "print(x_train.shape, x_test.shape)"
   ]
  },
  {
   "cell_type": "code",
   "execution_count": 4,
   "metadata": {},
   "outputs": [
    {
     "name": "stdout",
     "output_type": "stream",
     "text": [
      "(60000, 784) (10000, 784)\n"
     ]
    }
   ],
   "source": [
    "#Reshape the training and test data to create 1D vectors\n",
    "x_train = x_train.reshape((len(x_train), np.prod(x_train.shape[1:])))\n",
    "x_test = x_test.reshape(len(x_test), np.prod(x_test.shape[1:]))\n",
    "\n",
    "print(x_train.shape, x_test.shape)"
   ]
  },
  {
   "cell_type": "markdown",
   "metadata": {},
   "source": [
    "## Build the Deep Autoencoder\n",
    "\n",
    "So this time, we are building a deep autoencoder. The code for this wo't be much different to what we saw earlier. Here we are adding a few extra encoding and decoding layers as listed below:\n",
    "\n",
    "- Use 3 fully-connected layers for the encoding model that inputs original 784 dimensions and decrease the dimensionality from 128 to 64 to 32. \n",
    "\n",
    "- Add 3 fully-connected decoder layers that reconstruct the image back to 784 dimensions.\n",
    "- Except for the last layer, use ReLU activation functions in all other layers\n",
    "- Show the model summary \n",
    "\n"
   ]
  },
  {
   "cell_type": "code",
   "execution_count": 6,
   "metadata": {},
   "outputs": [
    {
     "name": "stdout",
     "output_type": "stream",
     "text": [
      "_________________________________________________________________\n",
      "Layer (type)                 Output Shape              Param #   \n",
      "=================================================================\n",
      "dense_7 (Dense)              (None, 128)               100480    \n",
      "_________________________________________________________________\n",
      "dense_8 (Dense)              (None, 64)                8256      \n",
      "_________________________________________________________________\n",
      "dense_9 (Dense)              (None, 32)                2080      \n",
      "_________________________________________________________________\n",
      "dense_10 (Dense)             (None, 64)                2112      \n",
      "_________________________________________________________________\n",
      "dense_11 (Dense)             (None, 128)               8320      \n",
      "_________________________________________________________________\n",
      "dense_12 (Dense)             (None, 784)               101136    \n",
      "=================================================================\n",
      "Total params: 222,384\n",
      "Trainable params: 222,384\n",
      "Non-trainable params: 0\n",
      "_________________________________________________________________\n"
     ]
    }
   ],
   "source": [
    "# Build a deep AE\n",
    "\n",
    "input_dim = x_train.shape[1]\n",
    "endc_dim = 32\n",
    "\n",
    "autoencoder = Sequential()\n",
    "\n",
    "# Encoder Layers\n",
    "autoencoder.add(Dense(units=endc_dim*4, input_shape=(input_dim,), activation='relu'))  #128\n",
    "autoencoder.add(Dense(units=endc_dim*2, activation='relu'))  #64\n",
    "autoencoder.add(Dense(units=endc_dim, activation='relu'))    #32\n",
    "\n",
    "# Decoder Layers\n",
    "autoencoder.add(Dense(units=endc_dim*2, activation='relu'))\n",
    "autoencoder.add(Dense(units=endc_dim*4, activation='relu'))\n",
    "autoencoder.add(Dense(units=input_dim, activation='sigmoid'))\n",
    "\n",
    "#Check a summary of the autoencoder\n",
    "autoencoder.summary()\n"
   ]
  },
  {
   "cell_type": "markdown",
   "metadata": {},
   "source": [
    "## Extract the Encoder \n",
    "\n",
    "As seen previously, we will now extract the encoder model from the above. Remember the encoder model now consists of the first 3 layers in the autoencoder."
   ]
  },
  {
   "cell_type": "code",
   "execution_count": 7,
   "metadata": {},
   "outputs": [
    {
     "name": "stdout",
     "output_type": "stream",
     "text": [
      "_________________________________________________________________\n",
      "Layer (type)                 Output Shape              Param #   \n",
      "=================================================================\n",
      "input_1 (InputLayer)         (None, 784)               0         \n",
      "_________________________________________________________________\n",
      "dense_7 (Dense)              (None, 128)               100480    \n",
      "_________________________________________________________________\n",
      "dense_8 (Dense)              (None, 64)                8256      \n",
      "_________________________________________________________________\n",
      "dense_9 (Dense)              (None, 32)                2080      \n",
      "=================================================================\n",
      "Total params: 110,816\n",
      "Trainable params: 110,816\n",
      "Non-trainable params: 0\n",
      "_________________________________________________________________\n"
     ]
    }
   ],
   "source": [
    "# Extract the Encoder model and output a summary like this:\n",
    "input_img = Input(shape=(input_dim,))\n",
    "encoder_layer1 = autoencoder.layers[0]\n",
    "encoder_layer2 = autoencoder.layers[1]\n",
    "encoder_layer3 = autoencoder.layers[2]\n",
    "encoder = Model(input_img, encoder_layer3(encoder_layer2(encoder_layer1(input_img))))\n",
    "\n",
    "encoder.summary()"
   ]
  },
  {
   "cell_type": "markdown",
   "metadata": {},
   "source": [
    "## Train the Model\n",
    "\n",
    "We can now compile the model with Adam optimizer and binary cross entropy loss. Use 20 epochs and a batch size of 256. "
   ]
  },
  {
   "cell_type": "code",
   "execution_count": 11,
   "metadata": {},
   "outputs": [
    {
     "name": "stdout",
     "output_type": "stream",
     "text": [
      "Train on 60000 samples, validate on 10000 samples\n",
      "Epoch 1/20\n",
      "60000/60000 [==============================] - 6s 93us/step - loss: 0.2804 - val_loss: 0.2813\n",
      "Epoch 2/20\n",
      "60000/60000 [==============================] - 5s 87us/step - loss: 0.2788 - val_loss: 0.2811\n",
      "Epoch 3/20\n",
      "60000/60000 [==============================] - 5s 87us/step - loss: 0.2786 - val_loss: 0.2809\n",
      "Epoch 4/20\n",
      "60000/60000 [==============================] - 5s 86us/step - loss: 0.2783 - val_loss: 0.2807\n",
      "Epoch 5/20\n",
      "60000/60000 [==============================] - 5s 87us/step - loss: 0.2780 - val_loss: 0.2804\n",
      "Epoch 6/20\n",
      "60000/60000 [==============================] - 5s 87us/step - loss: 0.2777 - val_loss: 0.2809\n",
      "Epoch 7/20\n",
      "60000/60000 [==============================] - 5s 88us/step - loss: 0.2775 - val_loss: 0.2801\n",
      "Epoch 8/20\n",
      "60000/60000 [==============================] - 5s 87us/step - loss: 0.2772 - val_loss: 0.2796\n",
      "Epoch 9/20\n",
      "60000/60000 [==============================] - 5s 87us/step - loss: 0.2770 - val_loss: 0.2798\n",
      "Epoch 10/20\n",
      "60000/60000 [==============================] - 5s 87us/step - loss: 0.2767 - val_loss: 0.2790\n",
      "Epoch 11/20\n",
      "60000/60000 [==============================] - 5s 87us/step - loss: 0.2765 - val_loss: 0.2789\n",
      "Epoch 12/20\n",
      "60000/60000 [==============================] - 5s 88us/step - loss: 0.2763 - val_loss: 0.2795\n",
      "Epoch 13/20\n",
      "60000/60000 [==============================] - 5s 89us/step - loss: 0.2761 - val_loss: 0.2784\n",
      "Epoch 14/20\n",
      "60000/60000 [==============================] - 5s 88us/step - loss: 0.2759 - val_loss: 0.2783\n",
      "Epoch 15/20\n",
      "60000/60000 [==============================] - 5s 90us/step - loss: 0.2757 - val_loss: 0.2783\n",
      "Epoch 16/20\n",
      "60000/60000 [==============================] - 6s 97us/step - loss: 0.2756 - val_loss: 0.2780\n",
      "Epoch 17/20\n",
      "60000/60000 [==============================] - 5s 90us/step - loss: 0.2753 - val_loss: 0.2779\n",
      "Epoch 18/20\n",
      "60000/60000 [==============================] - 5s 90us/step - loss: 0.2752 - val_loss: 0.2777\n",
      "Epoch 19/20\n",
      "60000/60000 [==============================] - 5s 88us/step - loss: 0.2750 - val_loss: 0.2778\n",
      "Epoch 20/20\n",
      "60000/60000 [==============================] - 5s 88us/step - loss: 0.2749 - val_loss: 0.2778\n"
     ]
    },
    {
     "data": {
      "text/plain": [
       "<keras.callbacks.History at 0xb2ac537b8>"
      ]
     },
     "execution_count": 11,
     "metadata": {},
     "output_type": "execute_result"
    }
   ],
   "source": [
    "# Compile and train and the model \n",
    "autoencoder.compile(optimizer='adam', loss='binary_crossentropy')\n",
    "autoencoder.fit(x=x_train, y=x_train, batch_size=256, epochs=20, validation_data=(x_test, x_test))"
   ]
  },
  {
   "cell_type": "markdown",
   "metadata": {},
   "source": [
    "## View the Code and Reconstruction\n",
    "\n",
    "Bring in the code from previous experiment to view the reconstruction and encoding performed by our deep AE for 10 random images. "
   ]
  },
  {
   "cell_type": "code",
   "execution_count": 12,
   "metadata": {},
   "outputs": [
    {
     "data": {
      "image/png": "[encoded data removed]",
      "text/plain": [
       "<Figure size 1296x288 with 30 Axes>"
      ]
     },
     "metadata": {
      "needs_background": "light"
     },
     "output_type": "display_data"
    }
   ],
   "source": [
    "#Plot the original images, encoded representations and output\n",
    "num_images = 10\n",
    "np.random.seed(25)\n",
    "random_test_images = np.random.randint(x_test.shape[0], size=num_images)\n",
    "\n",
    "encoded_imgs = encoder.predict(x_test)\n",
    "decoded_imgs = autoencoder.predict(x_test)\n",
    "\n",
    "plt.figure(figsize=(18, 4))\n",
    "\n",
    "for i, image_idx in enumerate(random_test_images):\n",
    "    # plot original image\n",
    "    ax = plt.subplot(3, num_images, i + 1)\n",
    "    plt.imshow(x_test[image_idx].reshape(28, 28))\n",
    "    plt.gray()\n",
    "    ax.get_xaxis().set_visible(False)\n",
    "    ax.get_yaxis().set_visible(False)\n",
    "    \n",
    "    # plot encoded image\n",
    "    ax = plt.subplot(3, num_images, num_images + i + 1)\n",
    "    plt.imshow(encoded_imgs[image_idx].reshape(8, 4))\n",
    "    plt.gray()\n",
    "    ax.get_xaxis().set_visible(False)\n",
    "    ax.get_yaxis().set_visible(False)\n",
    "\n",
    "    # plot reconstructed image\n",
    "    ax = plt.subplot(3, num_images, 2*num_images + i + 1)\n",
    "    plt.imshow(decoded_imgs[image_idx].reshape(28, 28))\n",
    "    plt.gray()\n",
    "    ax.get_xaxis().set_visible(False)\n",
    "    ax.get_yaxis().set_visible(False)\n",
    "plt.show()"
   ]
  },
  {
   "cell_type": "markdown",
   "metadata": {},
   "source": [
    "---"
   ]
  },
  {
   "cell_type": "markdown",
   "metadata": {},
   "source": [
    "Do you notice any improvement over the previous model ? Let's admit it, there is not a huge change , due to the fact that we did not train the model to the point of convergence (for saving some time). Also, we did not use any cross validation techniques. We can improve these models by performing following tasks:\n"
   ]
  },
  {
   "cell_type": "markdown",
   "metadata": {},
   "source": [
    "## Level Up - Optional \n",
    "\n",
    "- Train both (simple and deep) AEs to 100 epochs and compare the results\n",
    "- Apply k-fold cross validation with deep AE (highly recommended for avoiding overfitting in deep networks) and check for any improvements.\n",
    "- Repeat the simple and deep AE labs with MNIST dataset (available in Keras).\n",
    "- Try this experiment with a high resolution (very high dimensionality) dataset. Caution: The training time may reach upto hours for a large dataset (or even days) - Thats where GPU/cloud computing comes into play. "
   ]
  },
  {
   "cell_type": "markdown",
   "metadata": {},
   "source": [
    "## Summary \n",
    "\n",
    "In this lab, we created a deep Autoencoder following the similar approach and dataset from our previous lab. We developed 3 layer encoder and decoder functions in keras and trained the network for 20 epochs. Next, we shall look into an AE architecture which is highly suitable for Image data - The Convolutional Auto-Encoder. "
   ]
  }
 ],
 "metadata": {
  "kernelspec": {
   "display_name": "Python 3",
   "language": "python",
   "name": "python3"
  },
  "language_info": {
   "codemirror_mode": {
    "name": "ipython",
    "version": 3
   },
   "file_extension": ".py",
   "mimetype": "text/x-python",
   "name": "python",
   "nbconvert_exporter": "python",
   "pygments_lexer": "ipython3",
   "version": "3.6.6"
  }
 },
 "nbformat": 4,
 "nbformat_minor": 2
}
