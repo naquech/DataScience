{
 "cells": [
  {
   "cell_type": "markdown",
   "metadata": {},
   "source": [
    "# Denoising Autoencoders - Lab\n",
    "\n",
    "## Introduction\n",
    "\n",
    "In this lab, we will build a simple de-noising autoencoder using a shallow architecture. Following the approach in previously seen in the section, the simple architecture can be replaced by a deep network having multiple layers to learn the intermediate representation. The basic architecture remains the same here , however, the application area changes from data compression to data de-noising. Let's get on with it . \n",
    "\n",
    "## Objectives\n",
    "\n",
    "You will be able to:\n",
    "\n",
    "- Build a simple denoising Autoencoder architecture in Keras\n",
    "- Add random Gaussian Noise to a given images dataset\n",
    "- Predict a clean image from a (previously unseen) noisy image\n"
   ]
  },
  {
   "cell_type": "markdown",
   "metadata": {},
   "source": [
    "## Load necessary libraries\n",
    "\n",
    "We need to first load necessary libraries including numpy and keras for building our DAE model."
   ]
  },
  {
   "cell_type": "code",
   "execution_count": 1,
   "metadata": {},
   "outputs": [],
   "source": [
    "# Import necessary libraries\n",
    "\n",
    "import numpy as np\n",
    "import keras\n",
    "import matplotlib.pyplot as plt\n",
    "\n",
    "from keras.datasets import fashion_mnist\n",
    "from keras.models import Model, Sequential\n",
    "from keras.layers import Input, Dense"
   ]
  },
  {
   "cell_type": "markdown",
   "metadata": {},
   "source": [
    "## Load data\n",
    "\n",
    "This experiment can be performed with any small image database, to help us keep our focus on the architecture and the approach. You can try with MNIST, fashion-MNIST, CIFAR10 and CIFAR100 datasets. CIFAR datasets are colored images and carry RGB channels which can possibly increase the training times many folds. You are encouraged to try these and other larger datasets with this code and give it a few hours (maybe overnight) training time to run a bigger experiment. \n",
    "\n",
    "Let's perform following tasks first, similar to our previous labs\n",
    "\n",
    "- Load MNIST/fashion-MNIST dataset in keras (both datasets contain images with similar dimensions). Create train and test datasets\n",
    "- Neural networks only accepts row vectors as an input - Reshape train and test datasets from 2D array to 1D. \n",
    "- Scale the data in range [0,1] to allow us to use sigmoid activation function in output neurons.\n",
    "- Print the shape of resulting datasets"
   ]
  },
  {
   "cell_type": "code",
   "execution_count": 3,
   "metadata": {},
   "outputs": [
    {
     "name": "stdout",
     "output_type": "stream",
     "text": [
      "(60000, 784) (10000, 784)\n"
     ]
    }
   ],
   "source": [
    "(x_train, _), (x_test, _) = fashion_mnist.load_data()\n",
    "\n",
    "x_train = x_train.reshape((len(x_train), np.prod(x_train.shape[1:])))\n",
    "x_test = x_test.reshape(len(x_test), np.prod(x_test.shape[1:]))\n",
    "\n",
    "max_value = float(x_train.max())\n",
    "x_train = x_train.astype('float32') / max_value\n",
    "x_test = x_test.astype('float32') / max_value\n",
    "\n",
    "print(x_train.shape, x_test.shape)"
   ]
  },
  {
   "cell_type": "code",
   "execution_count": 4,
   "metadata": {},
   "outputs": [
    {
     "name": "stdout",
     "output_type": "stream",
     "text": [
      "MNIST\n",
      "\n",
      "60000 training samples\n",
      "10000 test samples\n"
     ]
    }
   ],
   "source": [
    "print ('MNIST\\n')\n",
    "print(x_train.shape[0], 'training samples')\n",
    "print(x_test.shape[0], 'test samples')"
   ]
  },
  {
   "cell_type": "markdown",
   "metadata": {},
   "source": [
    "## Create a \"Noisy\" Dataset\n",
    "\n",
    "Here we will introduce random Gaussian noise to the test and train data. The noiy dataset can be generated using following general formula, which will a add noise with mean 0 and standard deviation=1 :\n",
    "\n",
    "$$NoisyDataset~=~OriginalDataset~+~NoiseFactor~*~np.random.normal(loc=0.0, scale=1.0, size=OriginalDataset.shape)$$\n",
    "\n",
    "- Use a noise factor of 0.5\n",
    "- Create a set of noise test and train datasets from original datasets using formula given above\n",
    "- Use `np.clip()` to restrict the values between 0 and 1. \n",
    "\n",
    "\n",
    "> __numpy.clip(a, a_min, a_max, out=None)__ clips (limit) the values in an array.\n",
    "\n",
    "*Given an interval, values outside the interval are clipped to the interval edges. For example, if an interval of [0, 1] is specified, values smaller than 0 become 0, and values larger than 1 become 1.*\n"
   ]
  },
  {
   "cell_type": "code",
   "execution_count": 5,
   "metadata": {},
   "outputs": [],
   "source": [
    "noise_train = x_train + 0.5 * np.random.normal(loc=0.0, scale=1.0, size=x_train.shape)\n",
    "noise_test = x_test + 0.5 * np.random.normal(loc=0.0, scale=1.0, size=x_test.shape)\n",
    "\n",
    "noise_train = np.clip(a=noise_train, a_min=0.0, a_max=1.0)\n",
    "noise_test = np.clip(a=noise_test, a_min=0.0, a_max=1.0)"
   ]
  },
  {
   "cell_type": "markdown",
   "metadata": {},
   "source": [
    "## Build the DAE\n",
    "\n",
    "- Build the encoder model for creating a hidden representation of length 32 from input vector of length 784. \n",
    "- Use RELU activation for the encoder model\n",
    "- Build the decoder model with signmoid activation \n",
    "- Show model summary"
   ]
  },
  {
   "cell_type": "code",
   "execution_count": 6,
   "metadata": {},
   "outputs": [
    {
     "data": {
      "text/plain": [
       "784"
      ]
     },
     "execution_count": 6,
     "metadata": {},
     "output_type": "execute_result"
    }
   ],
   "source": [
    "x_train.shape[1]"
   ]
  },
  {
   "cell_type": "code",
   "execution_count": 9,
   "metadata": {},
   "outputs": [
    {
     "name": "stdout",
     "output_type": "stream",
     "text": [
      "_________________________________________________________________\n",
      "Layer (type)                 Output Shape              Param #   \n",
      "=================================================================\n",
      "inputs (InputLayer)          (None, 784)               0         \n",
      "_________________________________________________________________\n",
      "dense_3 (Dense)              (None, 32)                25120     \n",
      "_________________________________________________________________\n",
      "dense_4 (Dense)              (None, 784)               25872     \n",
      "=================================================================\n",
      "Total params: 50,992\n",
      "Trainable params: 50,992\n",
      "Non-trainable params: 0\n",
      "_________________________________________________________________\n"
     ]
    }
   ],
   "source": [
    "input_dim = x_train.shape[1]\n",
    "endc_dim = 32\n",
    "\n",
    "x = Input(shape=(784,), name='inputs', dtype='float32')\n",
    "encoder = Dense(units=32, activation='relu')(x)\n",
    "decoder = Dense(units=input_dim, activation='sigmoid')(encoder)\n",
    "\n",
    "model = Model(inputs=x, outputs=decoder)\n",
    "model.summary()"
   ]
  },
  {
   "cell_type": "markdown",
   "metadata": {},
   "source": [
    "## Compile and Predict \n",
    "\n",
    "- Use batch size = 128 and 30 epochs for training (increase epochs for better results)\n",
    "- Use adam optimizer and binary cross entropy as the loss measure to compile DAE model\n",
    "- Fit DAE with noisy dataset as the input and original dataset as the output. We are trying to teach the network to learn how a clean version compares to the noisy version of data - for all images. \n",
    "- Set `shuffle=True` for shuffling batches of data. \n",
    "- Make predictions with the noise test dataset"
   ]
  },
  {
   "cell_type": "code",
   "execution_count": 10,
   "metadata": {},
   "outputs": [
    {
     "name": "stdout",
     "output_type": "stream",
     "text": [
      "Train on 60000 samples, validate on 10000 samples\n",
      "Epoch 1/30\n",
      "60000/60000 [==============================] - 6s 95us/step - loss: 0.3899 - val_loss: 0.3394\n",
      "Epoch 2/30\n",
      "60000/60000 [==============================] - 4s 72us/step - loss: 0.3298 - val_loss: 0.3270\n",
      "Epoch 3/30\n",
      "60000/60000 [==============================] - 4s 71us/step - loss: 0.3210 - val_loss: 0.3212\n",
      "Epoch 4/30\n",
      "60000/60000 [==============================] - 4s 72us/step - loss: 0.3157 - val_loss: 0.3164\n",
      "Epoch 5/30\n",
      "60000/60000 [==============================] - 4s 72us/step - loss: 0.3119 - val_loss: 0.3131\n",
      "Epoch 6/30\n",
      "60000/60000 [==============================] - 4s 72us/step - loss: 0.3091 - val_loss: 0.3107\n",
      "Epoch 7/30\n",
      "60000/60000 [==============================] - 4s 72us/step - loss: 0.3073 - val_loss: 0.3093\n",
      "Epoch 8/30\n",
      "60000/60000 [==============================] - 4s 72us/step - loss: 0.3060 - val_loss: 0.3083\n",
      "Epoch 9/30\n",
      "60000/60000 [==============================] - 5s 80us/step - loss: 0.3051 - val_loss: 0.3076\n",
      "Epoch 10/30\n",
      "60000/60000 [==============================] - 4s 75us/step - loss: 0.3044 - val_loss: 0.3070\n",
      "Epoch 11/30\n",
      "60000/60000 [==============================] - 5s 87us/step - loss: 0.3039 - val_loss: 0.3067\n",
      "Epoch 12/30\n",
      "60000/60000 [==============================] - 5s 85us/step - loss: 0.3036 - val_loss: 0.3064\n",
      "Epoch 13/30\n",
      "60000/60000 [==============================] - 5s 85us/step - loss: 0.3033 - val_loss: 0.3062\n",
      "Epoch 14/30\n",
      "60000/60000 [==============================] - 5s 76us/step - loss: 0.3031 - val_loss: 0.3061\n",
      "Epoch 15/30\n",
      "60000/60000 [==============================] - 5s 86us/step - loss: 0.3030 - val_loss: 0.3064\n",
      "Epoch 16/30\n",
      "60000/60000 [==============================] - 5s 81us/step - loss: 0.3028 - val_loss: 0.3057\n",
      "Epoch 17/30\n",
      "60000/60000 [==============================] - 6s 93us/step - loss: 0.3027 - val_loss: 0.3056\n",
      "Epoch 18/30\n",
      "60000/60000 [==============================] - 4s 74us/step - loss: 0.3025 - val_loss: 0.3057\n",
      "Epoch 19/30\n",
      "60000/60000 [==============================] - 5s 76us/step - loss: 0.3024 - val_loss: 0.3053\n",
      "Epoch 20/30\n",
      "60000/60000 [==============================] - 5s 77us/step - loss: 0.3022 - val_loss: 0.3053\n",
      "Epoch 21/30\n",
      "60000/60000 [==============================] - 5s 76us/step - loss: 0.3022 - val_loss: 0.3052\n",
      "Epoch 22/30\n",
      "60000/60000 [==============================] - 5s 89us/step - loss: 0.3021 - val_loss: 0.3051\n",
      "Epoch 23/30\n",
      "60000/60000 [==============================] - 4s 73us/step - loss: 0.3020 - val_loss: 0.3055\n",
      "Epoch 24/30\n",
      "60000/60000 [==============================] - 4s 72us/step - loss: 0.3019 - val_loss: 0.3052\n",
      "Epoch 25/30\n",
      "60000/60000 [==============================] - 4s 73us/step - loss: 0.3018 - val_loss: 0.3049\n",
      "Epoch 26/30\n",
      "60000/60000 [==============================] - 4s 73us/step - loss: 0.3018 - val_loss: 0.3048\n",
      "Epoch 27/30\n",
      "60000/60000 [==============================] - 4s 74us/step - loss: 0.3017 - val_loss: 0.3046\n",
      "Epoch 28/30\n",
      "60000/60000 [==============================] - 5s 79us/step - loss: 0.3016 - val_loss: 0.3047\n",
      "Epoch 29/30\n",
      "60000/60000 [==============================] - 5s 90us/step - loss: 0.3016 - val_loss: 0.3048\n",
      "Epoch 30/30\n",
      "60000/60000 [==============================] - 5s 84us/step - loss: 0.3015 - val_loss: 0.3046\n"
     ]
    },
    {
     "data": {
      "text/plain": [
       "<keras.callbacks.History at 0xb2f104cf8>"
      ]
     },
     "execution_count": 10,
     "metadata": {},
     "output_type": "execute_result"
    }
   ],
   "source": [
    "model.compile(optimizer='adam', loss='binary_crossentropy')\n",
    "model.fit(x=noise_train, y=x_train, batch_size=128, epochs=30, validation_data=(noise_test, x_test), shuffle=True)"
   ]
  },
  {
   "cell_type": "markdown",
   "metadata": {},
   "source": [
    "## View the results \n",
    "\n",
    "- Show the first ten images from the clean dataset.  \n",
    "- Show the images with added noise and images predicted by the DAE. "
   ]
  },
  {
   "cell_type": "code",
   "execution_count": 16,
   "metadata": {},
   "outputs": [
    {
     "data": {
      "image/png": "[encoded data removed]",
      "text/plain": [
       "<Figure size 1296x288 with 30 Axes>"
      ]
     },
     "metadata": {
      "needs_background": "light"
     },
     "output_type": "display_data"
    }
   ],
   "source": [
    "num_images = 10\n",
    "np.random.seed(25)\n",
    "random_test_images = np.random.randint(x_test.shape[0], size=num_images)\n",
    "\n",
    "decoded_imgs = model.predict(noise_test)\n",
    "\n",
    "plt.figure(figsize=(18, 4))\n",
    "\n",
    "for i, image_idx in enumerate(random_test_images):\n",
    "    # plot original image\n",
    "    ax = plt.subplot(3, num_images, i + 1)\n",
    "    plt.imshow(x_test[image_idx].reshape(28, 28))\n",
    "    plt.gray()\n",
    "    ax.get_xaxis().set_visible(False)\n",
    "    ax.get_yaxis().set_visible(False)\n",
    "    \n",
    "    # plot encoded image\n",
    "    ax = plt.subplot(3, num_images, num_images + i + 1)\n",
    "    plt.imshow(noise_test[i].reshape(28, 28))\n",
    "    plt.gray()\n",
    "    ax.get_xaxis().set_visible(False)\n",
    "    ax.get_yaxis().set_visible(False)\n",
    "\n",
    "    # plot reconstructed image\n",
    "    ax = plt.subplot(3, num_images, 2*num_images + i + 1)\n",
    "    plt.imshow(decoded_imgs[image_idx].reshape(28, 28))\n",
    "    plt.gray()\n",
    "    ax.get_xaxis().set_visible(False)\n",
    "    ax.get_yaxis().set_visible(False)\n",
    "    \n",
    "plt.show()"
   ]
  },
  {
   "cell_type": "markdown",
   "metadata": {},
   "source": [
    "Here we can see that the our model is actually performing very well. We do see some poor predictions above due to highly reduced dimensionality and high noise we have introduced in our dataset. We can further inspect the performance by checking the training and validation loss above. As always , a key takeaway here is the number of training examples and training time have a huge impact on the performance of a deep architecture. "
   ]
  },
  {
   "cell_type": "markdown",
   "metadata": {},
   "source": [
    "## Level up - Optional\n",
    "\n",
    "- Increase the size of encoded representation / decrease the amount of noise to see if the performance improves. \n",
    "- See how training epochs effect the performance\n",
    "- Import the faces dataset that we saw with PCA dimensionality reduction lab from scikit-learn, and repeat the above experiment. \n",
    "- Look for other interesting datasets/create your own noise datasets and train the network.\n",
    "- Create a DEEP denoising autoencoder by modifying the code above. "
   ]
  },
  {
   "cell_type": "markdown",
   "metadata": {},
   "source": [
    "## Summary \n",
    "\n",
    "In this lab we looked at building a simple denoising autoencoder. We created noisy datasets by adding random Gaussian noise to the fashion MNIST dataset in keras. Our results show that the network is able to identify the shapes very well , but due to using a hugely oversimplified architecture , the accuracy remains questionable. Next we'll see how we can use convolutional network approach to simplify the task of image reconstruction."
   ]
  }
 ],
 "metadata": {
  "kernelspec": {
   "display_name": "Python 3",
   "language": "python",
   "name": "python3"
  },
  "language_info": {
   "codemirror_mode": {
    "name": "ipython",
    "version": 3
   },
   "file_extension": ".py",
   "mimetype": "text/x-python",
   "name": "python",
   "nbconvert_exporter": "python",
   "pygments_lexer": "ipython3",
   "version": "3.6.6"
  }
 },
 "nbformat": 4,
 "nbformat_minor": 2
}
